{
  "cells": [
    {
      "cell_type": "markdown",
      "metadata": {
        "id": "b9IkYL6bW1GI"
      },
      "source": [
        "# Data Analytics Primer for AI & Machine Learning"
      ]
    },
    {
      "cell_type": "code",
      "execution_count": 1,
      "metadata": {
        "id": "YtdM7fe2mnHA"
      },
      "outputs": [],
      "source": [
        "import pandas as pd\n",
        "import numpy as np\n",
        "from typing import Union\n",
        "import matplotlib.pyplot as plt\n",
        "import seaborn as sns"
      ]
    },
    {
      "cell_type": "markdown",
      "metadata": {
        "id": "zP8oqbiYGvNh"
      },
      "source": [
        "# Dataset 1: States and Union Territories in India: Dataset"
      ]
    },
    {
      "cell_type": "code",
      "execution_count": 2,
      "metadata": {
        "colab": {
          "base_uri": "https://localhost:8080/",
          "height": 329
        },
        "id": "JjSr0CO_nSH-",
        "outputId": "7056f6de-ceb5-4368-d256-f2a59e37607c"
      },
      "outputs": [],
      "source": [
        "#df = pd.read_csv(\"../datasets/States_and_union_territories_of_India_1.csv\")"
      ]
    },
    {
      "cell_type": "markdown",
      "metadata": {
        "id": "Rks1-Gl_rHCJ"
      },
      "source": [
        "## Summary Stats Function\n",
        "\n",
        "This is a helpful function to continually use throughout your data cleaning process as a 'status report'"
      ]
    },
    {
      "cell_type": "code",
      "execution_count": null,
      "metadata": {
        "id": "zWRKWtdXCWmf"
      },
      "outputs": [],
      "source": [
        "def summary_stats(df) -> pd.DataFrame:\n",
        "\n",
        "    # Create base frame\n",
        "    stats = pd.DataFrame(index=df.columns)\n",
        "\n",
        "    stats[\"dtype\"] = df.dtypes\n",
        "\n",
        "\n",
        "    stats[\"sample_val\"] = [df[col].dropna().sample(1).iloc[0]\n",
        "                            if df[col].notna().any() else np.nan\n",
        "                            for col in df.columns]\n",
        "\n",
        "    stats[\"vals\"] = df.count()\n",
        "    stats[\"miss_pct\"] = (df.isna().sum() / len(df) * 100).round(1)\n",
        "    stats[\"unique\"] = df.nunique()\n",
        "\n",
        "    # Initiate Descriptive Stats\n",
        "    for col in [\"mean\", \"mode\", \"min\", \"max\", \"std\", \"skew\", \"kurtosis\"]:\n",
        "        stats[col] = np.nan\n",
        "\n",
        "    # Compute stats for numeric columns\n",
        "    num_cols = df.select_dtypes(include=\"number\").columns\n",
        "\n",
        "    for col in num_cols:\n",
        "        s = df[col].dropna()\n",
        "        if not s.empty:\n",
        "            stats.at[col, \"mean\"] = s.mean()\n",
        "            stats.at[col, \"min\"] = s.min()\n",
        "            stats.at[col, \"max\"] = s.max()\n",
        "            stats.at[col, \"std\"] = s.std()\n",
        "            stats.at[col, \"skew\"] = s.skew().round(1)\n",
        "            stats.at[col, \"kurtosis\"] = s.kurtosis().round(1)\n",
        "            mode_vals = s.mode()\n",
        "            stats.at[col, \"mode\"] = mode_vals.iloc[0] if not mode_vals.empty else np.nan\n",
        "\n",
        "    # Rounding preferences for numeric stats (change this to suit dataset)\n",
        "    round_cols = [\"mean\", \"mode\", \"min\", \"max\", \"std\"]\n",
        "    stats[round_cols] = stats[round_cols].round(2)\n",
        "\n",
        "    return stats\n"
      ]
    },
    {
      "cell_type": "code",
      "execution_count": null,
      "metadata": {
        "id": "YNwXopXDntww"
      },
      "outputs": [],
      "source": [
        "#summary_stats(df)"
      ]
    },
    {
      "cell_type": "markdown",
      "metadata": {
        "id": "fD8nLipW5e4Q"
      },
      "source": [
        "## Column names\n",
        "Column names need to be cleaned up for several reasons namely:\n",
        "1. easier to analyse\n",
        "2. future use or storage i.e. databases or models\n",
        "3. naming conventions are a good habit\n"
      ]
    },
    {
      "cell_type": "markdown",
      "metadata": {
        "id": "yVPkQZfD8T8I"
      },
      "source": [
        "### Option 1: Data Cleanse Function\n",
        "\n",
        "This is a helpful function to get your columns and rows in a good place before you start any analytics or cleaning"
      ]
    },
    {
      "cell_type": "code",
      "execution_count": null,
      "metadata": {
        "id": "YgFwrzHo7wBn"
      },
      "outputs": [],
      "source": [
        "def data_cleanse(df) -> pd.DataFrame:\n",
        "    df = df.copy()\n",
        "\n",
        "    # Normalize column names\n",
        "    df.columns = (df.columns\n",
        "                  # Remove special characters\n",
        "                  .str.replace(r'[^\\w\\s-]', '', regex=True)\n",
        "                  # General\n",
        "                  .str.replace(r'[\\n\\s]+', '_', regex=True)\n",
        "                  # Consistency\n",
        "                  .str.lower())\n",
        "\n",
        "    # Normalize object values (strings)\n",
        "    for col in df.select_dtypes(include=['object']):\n",
        "        # Consistency and remove surprises\n",
        "        df[col] = df[col].str.strip().str.lower()\n",
        "\n",
        "    return df\n",
        "\n",
        "df = data_cleanse(df)"
      ]
    },
    {
      "cell_type": "markdown",
      "metadata": {
        "id": "UJEOT3Lx8Vmw"
      },
      "source": [
        "### Option 2"
      ]
    },
    {
      "cell_type": "code",
      "execution_count": null,
      "metadata": {
        "id": "LEmeZmevpB3A"
      },
      "outputs": [],
      "source": [
        "# Remove characters i.e. (2011) or (km2)\n",
        "df.columns = df.columns.str.replace(r'[\\(\\)]+', '', regex=True)\n",
        "\n",
        "# Replace space and \\n with underscore --> good habit\n",
        "df.columns = df.columns.str.replace(r'[\\n\\s]+', '_', regex=True).str.lower()\n"
      ]
    },
    {
      "cell_type": "markdown",
      "metadata": {
        "id": "Ie5VXGx08gpB"
      },
      "source": [
        "### Renaming\n",
        "\n",
        "Depending on the situation, you may wish to rename certain columns"
      ]
    },
    {
      "cell_type": "code",
      "execution_count": null,
      "metadata": {
        "id": "i2XiDj_58sNo"
      },
      "outputs": [],
      "source": [
        "df.rename(columns={'additional_official_languages': 'other_languages',}, inplace=True)"
      ]
    },
    {
      "cell_type": "code",
      "execution_count": 3,
      "metadata": {
        "colab": {
          "base_uri": "https://localhost:8080/",
          "height": 394
        },
        "id": "dubCfyjWEFvn",
        "outputId": "84ff4e3d-baea-4cef-c9f8-1856ffa2ae0c"
      },
      "outputs": [],
      "source": [
        "#summary_stats(df)"
      ]
    },
    {
      "cell_type": "markdown",
      "metadata": {
        "id": "o5nT12Ro6cxx"
      },
      "source": [
        "## Data types\n",
        "You should always expect your data to be in the wrong data type.\n",
        "\n",
        "For example, **CSV files do not inherently store data types.**\n",
        "\n",
        "All future steps in machine learning projects will expect the data in numerical or temporal data."
      ]
    },
    {
      "cell_type": "markdown",
      "metadata": {
        "id": "KVX9IJHhEuBu"
      },
      "source": [
        "### Option 1: Convert Data types Function\n",
        "\n",
        "This is a manual function (you can automate it if you wish) to convert data types.\n",
        "\n",
        "Key assumption: you have analysed the column values and cleaned/removed anything that might cause it to fail\n",
        "\n",
        "If the fix is simple, you can always add it in the function (see 'convert columns to integers' below)"
      ]
    },
    {
      "cell_type": "code",
      "execution_count": null,
      "metadata": {
        "id": "1vUwfiV-Eo-S"
      },
      "outputs": [],
      "source": [
        "def convert_dtypes(df) -> pd.DataFrame:\n",
        "    df = df.copy()\n",
        "\n",
        "    # Convert these columns into integers for analysis and future modeling\n",
        "    for col in [\"population_2011\", \"area_km2\"]:\n",
        "        df[col] = df[col].str.replace(',', '').astype(int)\n",
        "\n",
        "    # Convert this column into date time for temporal analysis\n",
        "    df[\"statehood\"] = pd.to_datetime(df[\"statehood\"], format=\"%d %B %Y\")\n",
        "\n",
        "    # Convert this column to categorical for classification analysis\n",
        "    df[\"zone\"] = df[\"zone\"].astype('category')\n",
        "\n",
        "    return df"
      ]
    },
    {
      "cell_type": "code",
      "execution_count": null,
      "metadata": {
        "id": "XPg_42F8FD6N"
      },
      "outputs": [],
      "source": [
        "df = convert_dtypes(df)"
      ]
    },
    {
      "cell_type": "markdown",
      "metadata": {
        "id": "zybIOpYjEwCW"
      },
      "source": [
        "### Option 2"
      ]
    },
    {
      "cell_type": "code",
      "execution_count": null,
      "metadata": {
        "id": "bwI6XR1bnzb3"
      },
      "outputs": [],
      "source": [
        "# Remove character ',' in columns \"population_2011\", \"area_km2\", strip, and make dtype as int\n",
        "for col in [\"population_2011\", \"area_km2\"]:\n",
        "    df[col] = df[col].str.replace(',', '').astype(int)\n",
        "\n",
        "# Convert values in column statehood into datetime format e.g. 9 November 2000\n",
        "df[\"statehood\"] = pd.to_datetime(df[\"statehood\"], format=\"%d %B %Y\")"
      ]
    },
    {
      "cell_type": "code",
      "execution_count": null,
      "metadata": {
        "id": "vxMPJ74I9bQC"
      },
      "outputs": [],
      "source": [
        "# Convert values in column statehood into datetime format e.g. 9 November 2000\n",
        "df[\"statehood\"] = pd.to_datetime(df[\"statehood\"], format=\"%d %B %Y\")\n"
      ]
    },
    {
      "cell_type": "code",
      "execution_count": 4,
      "metadata": {
        "colab": {
          "base_uri": "https://localhost:8080/",
          "height": 432
        },
        "id": "iWg221nutRyW",
        "outputId": "f56ea596-da25-4b7d-e1ee-a2d411542dba"
      },
      "outputs": [],
      "source": [
        "#summary_stats(df)"
      ]
    },
    {
      "cell_type": "markdown",
      "metadata": {
        "id": "FnRiRDh-96jc"
      },
      "source": [
        "## Missing Data (done badly)\n",
        "\n",
        "NaN is nice to have but don't expect your missing data to always be so obvious.\n",
        "\n"
      ]
    },
    {
      "cell_type": "markdown",
      "metadata": {
        "id": "vwjBCIiCs7Bm"
      },
      "source": [
        "### Other Missing Data Function"
      ]
    },
    {
      "cell_type": "code",
      "execution_count": null,
      "metadata": {
        "id": "qcT0jiaojJ8j"
      },
      "outputs": [],
      "source": [
        "def other_missing_data_stats(df) -> pd.DataFrame:\n",
        "    missing_values = [\"?\", \"—\", \"n/a\", \"null\", \"\"]\n",
        "\n",
        "    stats = pd.DataFrame(index=df.columns)\n",
        "    stats[\"total_rows\"] = len(df)\n",
        "    stats[\"bad_values\"] = [df[col].isin(missing_values).sum() for col in df.columns]\n",
        "    stats[\"miss_pct\"] = (stats[\"bad_values\"] / len(df) * 100).round(2)\n",
        "    stats[\"unique\"] = df.nunique()\n",
        "\n",
        "    return stats # Only show columns with issues"
      ]
    },
    {
      "cell_type": "code",
      "execution_count": null,
      "metadata": {
        "id": "0VHeSeYWyU9Y"
      },
      "outputs": [],
      "source": [
        "# Example bad tokens\n",
        "other_missing_values = [\"?\", \"—\", \"N/A\", \"null\", \"\"]\n",
        "\n",
        "def other_missing_data_stats(df, other_missing_values) -> pd.DataFrame:\n",
        "    stats = {}\n",
        "    for col in df.columns:\n",
        "        counts = df[col].isin(other_missing_values).sum()\n",
        "        stats[col] = {\n",
        "            \"total_rows\": len(df),\n",
        "            \"bad_values\": counts,\n",
        "            \"miss_pct\": round(counts / len(df) * 100, 2),\n",
        "            \"unique\": df[col].nunique()\n",
        "        }\n",
        "    return pd.DataFrame(stats).T\n"
      ]
    },
    {
      "cell_type": "code",
      "execution_count": 5,
      "metadata": {
        "colab": {
          "base_uri": "https://localhost:8080/",
          "height": 394
        },
        "id": "SObilBkWyc3G",
        "outputId": "80fda8cf-eec0-4767-fd80-95a36da2df2f"
      },
      "outputs": [],
      "source": [
        "#other_missing_data_stats(df)"
      ]
    },
    {
      "cell_type": "code",
      "execution_count": null,
      "metadata": {
        "id": "MQ3cgnCEzwzS"
      },
      "outputs": [],
      "source": [
        "#replace bad_tokens in additional_official_languages with numpy Nan\n",
        "df[\"other_languages\"] = df[\"other_languages\"].replace(bad_tokens, np.nan)"
      ]
    },
    {
      "cell_type": "markdown",
      "metadata": {
        "id": "xdRGAHed-FwR"
      },
      "source": [
        "## Detecting Outliers"
      ]
    },
    {
      "cell_type": "code",
      "execution_count": null,
      "metadata": {
        "id": "cYdGnOFf_K7U"
      },
      "outputs": [],
      "source": [
        "def anomaly_detection(df, z_thresh=3):\n",
        "    # Select numeric columns\n",
        "    continuous_cols = df.select_dtypes(include=\"number\").columns.tolist()\n",
        "\n",
        "    # --- Boxplot ---\n",
        "    plt.figure(figsize=(12, 6))\n",
        "    sns.boxplot(data=df[continuous_cols])\n",
        "    plt.title(\"Distribution of Continuous Variables\", fontsize=16)\n",
        "    plt.xlabel(\"Numeric Columns\")\n",
        "    plt.ylabel(\"Value Distribution\")\n",
        "    plt.xticks(rotation=45, ha=\"right\")\n",
        "    plt.tight_layout()\n",
        "    plt.show()\n",
        "\n",
        "    # --- Z-score based detection ---\n",
        "    z_scores = (df[continuous_cols] - df[continuous_cols].mean()) / df[continuous_cols].std()\n",
        "    outliers = (z_scores.abs() > z_thresh).any(axis=1)\n",
        "    outlier_rows = df.loc[outliers]\n",
        "\n",
        "    if outlier_rows.empty:\n",
        "        print(f\"No potential outliers detected with Z-score threshold {z_thresh}.\")\n",
        "    else:\n",
        "        print(f\"Potential outliers detected (Z-score > {z_thresh}):\")\n",
        "        display(outlier_rows)\n"
      ]
    },
    {
      "cell_type": "markdown",
      "metadata": {
        "id": "3Z6FMIlOHb-l"
      },
      "source": [
        "### Box Plot Visual"
      ]
    },
    {
      "cell_type": "code",
      "execution_count": 6,
      "metadata": {
        "colab": {
          "base_uri": "https://localhost:8080/",
          "height": 688
        },
        "id": "U4Yr9iCv_Qdo",
        "outputId": "200eee8e-e930-4df9-b839-7e2a359b373a"
      },
      "outputs": [],
      "source": [
        "#anomaly_detection(df)"
      ]
    },
    {
      "cell_type": "markdown",
      "metadata": {
        "id": "2rEIDSMdHgEi"
      },
      "source": [
        "### Option 1: Z-score threshold removal function"
      ]
    },
    {
      "cell_type": "code",
      "execution_count": null,
      "metadata": {
        "id": "sWDr9etitPFZ"
      },
      "outputs": [],
      "source": [
        "def remove_outliers_by_zscore(df, threshold=3) -> pd.DataFrame:\n",
        "    df = df.copy()\n",
        "\n",
        "    # Calculate z-scores for numeric columns\n",
        "    num_cols = df.select_dtypes(include='number').columns\n",
        "    z_scores = (df[num_cols] - df[num_cols].mean()) / df[num_cols].std()\n",
        "\n",
        "    # Filter rows where all z-scores are within threshold\n",
        "    original_len = len(df)\n",
        "    df = df[(z_scores.abs() <= threshold).all(axis=1)]\n",
        "\n",
        "    print(f\"Removed {original_len - len(df)} outlier rows ({((original_len - len(df)) / original_len * 100):.1f}%)\")\n",
        "\n",
        "    return df\n",
        "\n",
        "df = remove_outliers_by_zscore(df)"
      ]
    },
    {
      "cell_type": "markdown",
      "metadata": {
        "id": "FwUgHXXstgX7"
      },
      "source": [
        "### Option 2"
      ]
    },
    {
      "cell_type": "code",
      "execution_count": null,
      "metadata": {
        "id": "Vihvnako_bRo"
      },
      "outputs": [],
      "source": [
        "# Calculate Z-scores for numeric columns\n",
        "continuous_cols = df.select_dtypes(include=\"number\").columns\n",
        "z_scores = (df[continuous_cols] - df[continuous_cols].mean()) / df[continuous_cols].std()\n",
        "\n",
        "# Remove Outliers where only rows have Z-scores <= 3\n",
        "df = df[(z_scores.abs() <= 3).all(axis=1)]\n"
      ]
    },
    {
      "cell_type": "code",
      "execution_count": 7,
      "metadata": {
        "colab": {
          "base_uri": "https://localhost:8080/",
          "height": 432
        },
        "id": "05bd5JnvwY0E",
        "outputId": "a11e2d1d-d5e7-406f-a909-0852ad86c424"
      },
      "outputs": [],
      "source": [
        "#summary_stats(df)"
      ]
    },
    {
      "cell_type": "markdown",
      "metadata": {
        "id": "duecfmnDBSUo"
      },
      "source": [
        "## Feature Engineering\n",
        "\n",
        "Use Regular Expressions to identify, remove etc. strings from a larger string or text. There are many use cases so get practising!\n",
        "\n",
        "https://regexr.com/\n",
        "\n",
        "Note: \\ is a special character in regex to indicate the next character is literal e.g. \\. means decimal point or stop whereas . is a regex expression that represents a match of 0 or more"
      ]
    },
    {
      "cell_type": "code",
      "execution_count": null,
      "metadata": {
        "id": "GCfdMFxOJtwW"
      },
      "outputs": [],
      "source": [
        "def split_capital_column(df) -> pd.DataFrame:\n",
        "    df = df.copy()\n",
        "\n",
        "    df[\"capital_winter\"] = df[\"capital\"].str.extract(r\"\\(summer\\)\\n(.*)\\(winter\\)\")\n",
        "    df[\"capital_summer\"] = df[\"capital\"].str.extract(r\"(.*)\\(summer\\)\")\n",
        "    df[\"capital\"] = np.where(\n",
        "        pd.notna(df[\"capital_summer\"]) | pd.notna(df[\"capital_winter\"]),\n",
        "        np.nan,\n",
        "        df[\"capital\"]\n",
        "    )\n",
        "\n",
        "    return df"
      ]
    },
    {
      "cell_type": "code",
      "execution_count": null,
      "metadata": {
        "id": "FsemyThCKHEF"
      },
      "outputs": [],
      "source": [
        "df = split_capital_column(df)"
      ]
    },
    {
      "cell_type": "markdown",
      "metadata": {
        "id": "UutMj-ujKNYh"
      },
      "source": [
        "### Domain Expertise - sanity checks\n",
        "\n",
        "Important step to get a sense if anything is 'amiss'"
      ]
    },
    {
      "cell_type": "code",
      "execution_count": null,
      "metadata": {
        "id": "j8Lq2bdq0Vdz"
      },
      "outputs": [],
      "source": [
        "langs = []\n",
        "\n",
        "for _, row in df.iterrows():\n",
        "    if pd.notna(row[\"official_languages\"]):\n",
        "        langs.extend(row[\"official_languages\"].split(\", \"))\n",
        "    if pd.notna(row[\"other_languages\"]):\n",
        "        langs.extend(row[\"other_languages\"].split(\", \"))\n",
        "\n",
        "unique_languages = set(langs)\n"
      ]
    },
    {
      "cell_type": "code",
      "execution_count": 8,
      "metadata": {
        "colab": {
          "base_uri": "https://localhost:8080/"
        },
        "id": "qUnBylm-1Pg1",
        "outputId": "4acac3a7-d9cb-40d0-ce95-d763bbf6607b"
      },
      "outputs": [],
      "source": [
        "#num_unique_languages = len(unique_languages)\n",
        "#print(f\"Number of unique languages: {num_unique_languages}\")"
      ]
    },
    {
      "cell_type": "code",
      "execution_count": null,
      "metadata": {
        "id": "apMzwRNd4cQ8"
      },
      "outputs": [],
      "source": [
        "cities = []\n",
        "\n",
        "for _, row in df.iterrows():\n",
        "    if pd.notna(row[\"capital\"]):\n",
        "        cities.extend(row[\"capital\"].split(\", \"))\n",
        "    if pd.notna(row[\"capital_winter\"]):\n",
        "        cities.extend(row[\"capital_winter\"].split(\", \"))\n",
        "    if pd.notna(row[\"capital_summer\"]):\n",
        "        cities.extend(row[\"capital_summer\"].split(\", \"))\n",
        "\n",
        "unique_cities = list(set(cities))\n"
      ]
    },
    {
      "cell_type": "code",
      "execution_count": null,
      "metadata": {
        "colab": {
          "base_uri": "https://localhost:8080/"
        },
        "id": "EJGvLnuADiez",
        "outputId": "8de4f8d2-3c76-4199-9fb0-2f7460abca51"
      },
      "outputs": [
        {
          "name": "stdout",
          "output_type": "stream",
          "text": [
            "Number of unique cities: 30\n",
            "['agartala', 'aizawl', 'amaravati', 'bengaluru', 'bhararisain ', 'bhopal', 'bhubaneswar', 'chandigarh', 'chennai', 'dehradun ', 'dharamshala ', 'dispur', 'gandhinagar', 'gangtok', 'hyderabad', 'imphal', 'itanagar', 'jaipur', 'kohima', 'kolkata', 'lucknow', 'mumbai ', 'nagpur ', 'panaji', 'patna', 'raipur', 'ranchi', 'shillong', 'shimla ', 'thiruvananthapuram']\n"
          ]
        }
      ],
      "source": [
        "num_unique_cities = len(unique_cities)\n",
        "print(f\"Number of unique cities: {num_unique_cities}\")\n",
        "print(sorted(unique_cities))"
      ]
    },
    {
      "cell_type": "markdown",
      "metadata": {
        "id": "5SnPMBKqNPkF"
      },
      "source": [
        "# Dataset 2: Assignment 4.3"
      ]
    },
    {
      "cell_type": "code",
      "execution_count": null,
      "metadata": {
        "id": "9fk2WfHVG8WO"
      },
      "outputs": [],
      "source": [
        "df = pd.read_csv(\"datasets/sparql_2021-11-03_13-04-38Z.csv\")"
      ]
    },
    {
      "cell_type": "markdown",
      "metadata": {
        "id": "W6GFpPKZS6Vd"
      },
      "source": [
        "## Missing Completely at Random or not?\n",
        "If < 20% missing data in a column, check first to see if it's random:\n",
        "\n",
        "Missing Completely at Random (MCAR) is most simple/common assumption --> use mean, median\n",
        "- This is a bad technique to be used if the dataset contains outliers.\n",
        "\n",
        "Missing At Random (MAR) likelihood data is missing is 'conditionally' tied to some other missing data point\n",
        "\n",
        "Missing not at Random (MNAR)\n",
        "\n",
        "\n",
        "\n",
        "\n",
        "\n"
      ]
    },
    {
      "cell_type": "markdown",
      "metadata": {
        "id": "qQSlDLF_NrE1"
      },
      "source": [
        "### Problem 1: See Missing Data\n",
        "\n",
        "Using summary_stats function can help you get a quick sense of what is Missing data (NaN)"
      ]
    },
    {
      "cell_type": "code",
      "execution_count": null,
      "metadata": {
        "id": "zHvFABilHObS"
      },
      "outputs": [],
      "source": [
        "#summary_stats(df)"
      ]
    },
    {
      "cell_type": "markdown",
      "metadata": {
        "id": "OxIyimyWNiAD"
      },
      "source": [
        "### Problem 2-4: Imputing Missing Data ('name' column)\n",
        "\n",
        "We find that we can fill missing values using name\n",
        "\n",
        "ans4 = df['a'].str.split('/').apply(lambda x: x[-1])"
      ]
    },
    {
      "cell_type": "markdown",
      "metadata": {
        "id": "CX5bRW4lOC1g"
      },
      "source": [
        "Some things to consider:\n",
        "1. Is there a pattern we can quickly strip out to see the data more clearly\n",
        "2. Is the data missing completely at random or not?\n",
        "3. Is there a way of extracting data for consistent analytics?"
      ]
    },
    {
      "cell_type": "code",
      "execution_count": null,
      "metadata": {
        "id": "ZCoq_bY6KITJ"
      },
      "outputs": [],
      "source": [
        "#1. Is there a pattern we can quickly strip out to see the data more clearly\n",
        "\n",
        "# Observation: one regex can strip out a lot of noise from the rows\n",
        "df = df.replace(r'^http://dbpedia.org/resource/', '', regex=True)"
      ]
    },
    {
      "cell_type": "markdown",
      "metadata": {
        "id": "kl7fKglEvKvl"
      },
      "source": [
        "### MCAR or MNAR\n",
        "Before deciding on imputation techniques, consider if the missing data is MCAR, MAR, or MNAR\n",
        "\n",
        "There can be benefits of discovering it's MNAR, as is in this example"
      ]
    },
    {
      "cell_type": "code",
      "execution_count": null,
      "metadata": {
        "id": "D1AzzbrSHqVL"
      },
      "outputs": [],
      "source": [
        "# 2. Is the data MCAR or MNAR?\n",
        "missing_name = df.loc[df['name'].isnull()]\n",
        "unique_a_values = set(missing_name['a'].unique())\n",
        "num_unique_a_values = len(unique_a_values)"
      ]
    },
    {
      "cell_type": "code",
      "execution_count": null,
      "metadata": {
        "colab": {
          "base_uri": "https://localhost:8080/"
        },
        "id": "UOBUbNvwPPbl",
        "outputId": "47f55234-7e5e-4e00-8964-1d6fa6462ff0"
      },
      "outputs": [
        {
          "name": "stdout",
          "output_type": "stream",
          "text": [
            "Of 250 possible 'a' values, 4 account for all missing 'name' values\n",
            "\n",
            "Unique 'a' values: {'FirstMerit_Corporation', 'Bulgarian_Postbank', 'Royal_Canadian_Mint', 'Coventry_Health_Care'}\n"
          ]
        }
      ],
      "source": [
        "print(f\"Of 250 possible 'a' values, {num_unique_a_values} account for all missing 'name' values\\n\")\n",
        "print(f\"Unique 'a' values: {unique_a_values}\")\n",
        "\n",
        "# The data is not missing completely at random!"
      ]
    },
    {
      "cell_type": "markdown",
      "metadata": {
        "id": "b8iLv_kuPL9Z"
      },
      "source": [
        "#### MNAR Example: Bulgarian_Postbank\n",
        "\n",
        "Currently, Bulgarian_Postbank has two corresponding entries in 'name' column:\n",
        " \"Bulgarian Postbank\" and \"(legally known as Eurobank Bulgaria AD)\"\n",
        "\n",
        "If we impute missing 'name' values using data from the 'a' column, then Bulgarian_Postbank will have three corresponding entries in 'name' column\n",
        "- ans4 = df['a'].str.split('/').apply(lambda x: x[-1]) we add a 3rd name: \"Bulgarian_Postbank\"\n",
        "\n",
        "Also, through our analysis we have identified another problem, potentially worse than missing data - human entry error\n",
        "- is keeping '(legally known as Eurobank Bulgaria AD)' better or worse than missing data?\n"
      ]
    },
    {
      "cell_type": "code",
      "execution_count": null,
      "metadata": {
        "id": "DvCu65vpLgWu"
      },
      "outputs": [],
      "source": [
        "#df.loc[df['a'] == 'Bulgarian_Postbank']\n"
      ]
    },
    {
      "cell_type": "code",
      "execution_count": null,
      "metadata": {
        "colab": {
          "base_uri": "https://localhost:8080/",
          "height": 1000
        },
        "id": "6D_cc4qiQgXm",
        "outputId": "d7ae8316-cf32-474e-b100-ba4f52c52190"
      },
      "outputs": [
        {
          "data": {
            "application/vnd.google.colaboratory.intrinsic+json": {
              "repr_error": "0",
              "type": "dataframe"
            },
            "text/html": [
              "\n",
              "  <div id=\"df-5a2308ac-0e1b-456a-8eb4-ccbf2a7ee31e\" class=\"colab-df-container\">\n",
              "    <div>\n",
              "<style scoped>\n",
              "    .dataframe tbody tr th:only-of-type {\n",
              "        vertical-align: middle;\n",
              "    }\n",
              "\n",
              "    .dataframe tbody tr th {\n",
              "        vertical-align: top;\n",
              "    }\n",
              "\n",
              "    .dataframe thead th {\n",
              "        text-align: right;\n",
              "    }\n",
              "</style>\n",
              "<table border=\"1\" class=\"dataframe\">\n",
              "  <thead>\n",
              "    <tr style=\"text-align: right;\">\n",
              "      <th></th>\n",
              "      <th>a</th>\n",
              "      <th>name</th>\n",
              "      <th>type</th>\n",
              "      <th>foundation</th>\n",
              "      <th>location</th>\n",
              "      <th>products</th>\n",
              "      <th>sector</th>\n",
              "      <th>employee</th>\n",
              "      <th>assets</th>\n",
              "      <th>equity</th>\n",
              "      <th>revenue</th>\n",
              "      <th>profit</th>\n",
              "    </tr>\n",
              "  </thead>\n",
              "  <tbody>\n",
              "    <tr>\n",
              "      <th>4861</th>\n",
              "      <td>Bulgarian_Postbank</td>\n",
              "      <td>Bulgarian Postbank</td>\n",
              "      <td>Commercial_bank</td>\n",
              "      <td>1991</td>\n",
              "      <td>Bulgaria</td>\n",
              "      <td>Asset_management</td>\n",
              "      <td>Financial_services</td>\n",
              "      <td>3000</td>\n",
              "      <td>6.82E+09</td>\n",
              "      <td>1.15E+09</td>\n",
              "      <td>3.05E+08</td>\n",
              "      <td>1.20E+08</td>\n",
              "    </tr>\n",
              "    <tr>\n",
              "      <th>4862</th>\n",
              "      <td>Bulgarian_Postbank</td>\n",
              "      <td>Bulgarian Postbank</td>\n",
              "      <td>Commercial_bank</td>\n",
              "      <td>1991</td>\n",
              "      <td>Bulgaria</td>\n",
              "      <td>Factoring_(finance)</td>\n",
              "      <td>Financial_services</td>\n",
              "      <td>3000</td>\n",
              "      <td>6.82E+09</td>\n",
              "      <td>1.15E+09</td>\n",
              "      <td>3.05E+08</td>\n",
              "      <td>1.20E+08</td>\n",
              "    </tr>\n",
              "    <tr>\n",
              "      <th>4863</th>\n",
              "      <td>Bulgarian_Postbank</td>\n",
              "      <td>Bulgarian Postbank</td>\n",
              "      <td>Commercial_bank</td>\n",
              "      <td>1991</td>\n",
              "      <td>Bulgaria</td>\n",
              "      <td>Investment_banking</td>\n",
              "      <td>Financial_services</td>\n",
              "      <td>3000</td>\n",
              "      <td>6.82E+09</td>\n",
              "      <td>1.15E+09</td>\n",
              "      <td>3.05E+08</td>\n",
              "      <td>1.20E+08</td>\n",
              "    </tr>\n",
              "    <tr>\n",
              "      <th>4864</th>\n",
              "      <td>Bulgarian_Postbank</td>\n",
              "      <td>Bulgarian Postbank</td>\n",
              "      <td>Commercial_bank</td>\n",
              "      <td>1991</td>\n",
              "      <td>Bulgaria</td>\n",
              "      <td>Retail_banking</td>\n",
              "      <td>Financial_services</td>\n",
              "      <td>3000</td>\n",
              "      <td>6.82E+09</td>\n",
              "      <td>1.15E+09</td>\n",
              "      <td>3.05E+08</td>\n",
              "      <td>1.20E+08</td>\n",
              "    </tr>\n",
              "    <tr>\n",
              "      <th>4865</th>\n",
              "      <td>Bulgarian_Postbank</td>\n",
              "      <td>Bulgarian Postbank</td>\n",
              "      <td>Commercial_bank</td>\n",
              "      <td>1991</td>\n",
              "      <td>Bulgaria</td>\n",
              "      <td>Corporate_banking</td>\n",
              "      <td>Financial_services</td>\n",
              "      <td>3000</td>\n",
              "      <td>6.82E+09</td>\n",
              "      <td>1.15E+09</td>\n",
              "      <td>3.05E+08</td>\n",
              "      <td>1.20E+08</td>\n",
              "    </tr>\n",
              "    <tr>\n",
              "      <th>4866</th>\n",
              "      <td>Bulgarian_Postbank</td>\n",
              "      <td>Bulgarian Postbank</td>\n",
              "      <td>Commercial_bank</td>\n",
              "      <td>1991</td>\n",
              "      <td>Bulgaria</td>\n",
              "      <td>Loans</td>\n",
              "      <td>Financial_services</td>\n",
              "      <td>3000</td>\n",
              "      <td>6.82E+09</td>\n",
              "      <td>1.15E+09</td>\n",
              "      <td>3.05E+08</td>\n",
              "      <td>1.20E+08</td>\n",
              "    </tr>\n",
              "    <tr>\n",
              "      <th>4867</th>\n",
              "      <td>Bulgarian_Postbank</td>\n",
              "      <td>Bulgarian Postbank</td>\n",
              "      <td>Commercial_bank</td>\n",
              "      <td>1991</td>\n",
              "      <td>Bulgaria</td>\n",
              "      <td>Asset_management</td>\n",
              "      <td>Financial_services</td>\n",
              "      <td>3000</td>\n",
              "      <td>6.82E+09</td>\n",
              "      <td>1.15E+09</td>\n",
              "      <td>3.05E+08</td>\n",
              "      <td>1.20E+08</td>\n",
              "    </tr>\n",
              "    <tr>\n",
              "      <th>4868</th>\n",
              "      <td>Bulgarian_Postbank</td>\n",
              "      <td>Bulgarian Postbank</td>\n",
              "      <td>Commercial_bank</td>\n",
              "      <td>1991</td>\n",
              "      <td>Bulgaria</td>\n",
              "      <td>Factoring_(finance)</td>\n",
              "      <td>Financial_services</td>\n",
              "      <td>3000</td>\n",
              "      <td>6.82E+09</td>\n",
              "      <td>1.15E+09</td>\n",
              "      <td>3.05E+08</td>\n",
              "      <td>1.20E+08</td>\n",
              "    </tr>\n",
              "    <tr>\n",
              "      <th>4869</th>\n",
              "      <td>Bulgarian_Postbank</td>\n",
              "      <td>Bulgarian Postbank</td>\n",
              "      <td>Commercial_bank</td>\n",
              "      <td>1991</td>\n",
              "      <td>Bulgaria</td>\n",
              "      <td>Investment_banking</td>\n",
              "      <td>Financial_services</td>\n",
              "      <td>3000</td>\n",
              "      <td>6.82E+09</td>\n",
              "      <td>1.15E+09</td>\n",
              "      <td>3.05E+08</td>\n",
              "      <td>1.20E+08</td>\n",
              "    </tr>\n",
              "    <tr>\n",
              "      <th>4870</th>\n",
              "      <td>Bulgarian_Postbank</td>\n",
              "      <td>Bulgarian Postbank</td>\n",
              "      <td>Commercial_bank</td>\n",
              "      <td>1991</td>\n",
              "      <td>Bulgaria</td>\n",
              "      <td>Retail_banking</td>\n",
              "      <td>Financial_services</td>\n",
              "      <td>3000</td>\n",
              "      <td>6.82E+09</td>\n",
              "      <td>1.15E+09</td>\n",
              "      <td>3.05E+08</td>\n",
              "      <td>1.20E+08</td>\n",
              "    </tr>\n",
              "    <tr>\n",
              "      <th>4871</th>\n",
              "      <td>Bulgarian_Postbank</td>\n",
              "      <td>Bulgarian Postbank</td>\n",
              "      <td>Commercial_bank</td>\n",
              "      <td>1991</td>\n",
              "      <td>Bulgaria</td>\n",
              "      <td>Corporate_banking</td>\n",
              "      <td>Financial_services</td>\n",
              "      <td>3000</td>\n",
              "      <td>6.82E+09</td>\n",
              "      <td>1.15E+09</td>\n",
              "      <td>3.05E+08</td>\n",
              "      <td>1.20E+08</td>\n",
              "    </tr>\n",
              "    <tr>\n",
              "      <th>4872</th>\n",
              "      <td>Bulgarian_Postbank</td>\n",
              "      <td>Bulgarian Postbank</td>\n",
              "      <td>Commercial_bank</td>\n",
              "      <td>1991</td>\n",
              "      <td>Bulgaria</td>\n",
              "      <td>Loans</td>\n",
              "      <td>Financial_services</td>\n",
              "      <td>3000</td>\n",
              "      <td>6.82E+09</td>\n",
              "      <td>1.15E+09</td>\n",
              "      <td>3.05E+08</td>\n",
              "      <td>1.20E+08</td>\n",
              "    </tr>\n",
              "    <tr>\n",
              "      <th>4873</th>\n",
              "      <td>Bulgarian_Postbank</td>\n",
              "      <td>Bulgarian Postbank</td>\n",
              "      <td>Commercial_bank</td>\n",
              "      <td>1991</td>\n",
              "      <td>Bulgaria</td>\n",
              "      <td>Asset_management</td>\n",
              "      <td>Financial_services</td>\n",
              "      <td>3000</td>\n",
              "      <td>6.82E+09</td>\n",
              "      <td>1.15E+09</td>\n",
              "      <td>3.05E+08</td>\n",
              "      <td>1.20E+08</td>\n",
              "    </tr>\n",
              "    <tr>\n",
              "      <th>4874</th>\n",
              "      <td>Bulgarian_Postbank</td>\n",
              "      <td>Bulgarian Postbank</td>\n",
              "      <td>Commercial_bank</td>\n",
              "      <td>1991</td>\n",
              "      <td>Bulgaria</td>\n",
              "      <td>Factoring_(finance)</td>\n",
              "      <td>Financial_services</td>\n",
              "      <td>3000</td>\n",
              "      <td>6.82E+09</td>\n",
              "      <td>1.15E+09</td>\n",
              "      <td>3.05E+08</td>\n",
              "      <td>1.20E+08</td>\n",
              "    </tr>\n",
              "    <tr>\n",
              "      <th>4875</th>\n",
              "      <td>Bulgarian_Postbank</td>\n",
              "      <td>Bulgarian Postbank</td>\n",
              "      <td>Commercial_bank</td>\n",
              "      <td>1991</td>\n",
              "      <td>Bulgaria</td>\n",
              "      <td>Investment_banking</td>\n",
              "      <td>Financial_services</td>\n",
              "      <td>3000</td>\n",
              "      <td>6.82E+09</td>\n",
              "      <td>1.15E+09</td>\n",
              "      <td>3.05E+08</td>\n",
              "      <td>1.20E+08</td>\n",
              "    </tr>\n",
              "    <tr>\n",
              "      <th>4876</th>\n",
              "      <td>Bulgarian_Postbank</td>\n",
              "      <td>Bulgarian Postbank</td>\n",
              "      <td>Commercial_bank</td>\n",
              "      <td>1991</td>\n",
              "      <td>Bulgaria</td>\n",
              "      <td>Retail_banking</td>\n",
              "      <td>Financial_services</td>\n",
              "      <td>3000</td>\n",
              "      <td>6.82E+09</td>\n",
              "      <td>1.15E+09</td>\n",
              "      <td>3.05E+08</td>\n",
              "      <td>1.20E+08</td>\n",
              "    </tr>\n",
              "    <tr>\n",
              "      <th>4877</th>\n",
              "      <td>Bulgarian_Postbank</td>\n",
              "      <td>Bulgarian Postbank</td>\n",
              "      <td>Commercial_bank</td>\n",
              "      <td>1991</td>\n",
              "      <td>Bulgaria</td>\n",
              "      <td>Corporate_banking</td>\n",
              "      <td>Financial_services</td>\n",
              "      <td>3000</td>\n",
              "      <td>6.82E+09</td>\n",
              "      <td>1.15E+09</td>\n",
              "      <td>3.05E+08</td>\n",
              "      <td>1.20E+08</td>\n",
              "    </tr>\n",
              "    <tr>\n",
              "      <th>4878</th>\n",
              "      <td>Bulgarian_Postbank</td>\n",
              "      <td>Bulgarian Postbank</td>\n",
              "      <td>Commercial_bank</td>\n",
              "      <td>1991</td>\n",
              "      <td>Bulgaria</td>\n",
              "      <td>Loans</td>\n",
              "      <td>Financial_services</td>\n",
              "      <td>3000</td>\n",
              "      <td>6.82E+09</td>\n",
              "      <td>1.15E+09</td>\n",
              "      <td>3.05E+08</td>\n",
              "      <td>1.20E+08</td>\n",
              "    </tr>\n",
              "    <tr>\n",
              "      <th>4879</th>\n",
              "      <td>Bulgarian_Postbank</td>\n",
              "      <td>Bulgarian Postbank</td>\n",
              "      <td>Commercial_bank</td>\n",
              "      <td>1991</td>\n",
              "      <td>Sofia</td>\n",
              "      <td>Asset_management</td>\n",
              "      <td>Financial_services</td>\n",
              "      <td>3000</td>\n",
              "      <td>6.82E+09</td>\n",
              "      <td>1.15E+09</td>\n",
              "      <td>3.05E+08</td>\n",
              "      <td>1.20E+08</td>\n",
              "    </tr>\n",
              "    <tr>\n",
              "      <th>4880</th>\n",
              "      <td>Bulgarian_Postbank</td>\n",
              "      <td>Bulgarian Postbank</td>\n",
              "      <td>Commercial_bank</td>\n",
              "      <td>1991</td>\n",
              "      <td>Sofia</td>\n",
              "      <td>Factoring_(finance)</td>\n",
              "      <td>Financial_services</td>\n",
              "      <td>3000</td>\n",
              "      <td>6.82E+09</td>\n",
              "      <td>1.15E+09</td>\n",
              "      <td>3.05E+08</td>\n",
              "      <td>1.20E+08</td>\n",
              "    </tr>\n",
              "    <tr>\n",
              "      <th>4881</th>\n",
              "      <td>Bulgarian_Postbank</td>\n",
              "      <td>Bulgarian Postbank</td>\n",
              "      <td>Commercial_bank</td>\n",
              "      <td>1991</td>\n",
              "      <td>Sofia</td>\n",
              "      <td>Investment_banking</td>\n",
              "      <td>Financial_services</td>\n",
              "      <td>3000</td>\n",
              "      <td>6.82E+09</td>\n",
              "      <td>1.15E+09</td>\n",
              "      <td>3.05E+08</td>\n",
              "      <td>1.20E+08</td>\n",
              "    </tr>\n",
              "    <tr>\n",
              "      <th>4882</th>\n",
              "      <td>Bulgarian_Postbank</td>\n",
              "      <td>Bulgarian Postbank</td>\n",
              "      <td>Commercial_bank</td>\n",
              "      <td>1991</td>\n",
              "      <td>Sofia</td>\n",
              "      <td>Retail_banking</td>\n",
              "      <td>Financial_services</td>\n",
              "      <td>3000</td>\n",
              "      <td>6.82E+09</td>\n",
              "      <td>1.15E+09</td>\n",
              "      <td>3.05E+08</td>\n",
              "      <td>1.20E+08</td>\n",
              "    </tr>\n",
              "    <tr>\n",
              "      <th>4883</th>\n",
              "      <td>Bulgarian_Postbank</td>\n",
              "      <td>Bulgarian Postbank</td>\n",
              "      <td>Commercial_bank</td>\n",
              "      <td>1991</td>\n",
              "      <td>Sofia</td>\n",
              "      <td>Corporate_banking</td>\n",
              "      <td>Financial_services</td>\n",
              "      <td>3000</td>\n",
              "      <td>6.82E+09</td>\n",
              "      <td>1.15E+09</td>\n",
              "      <td>3.05E+08</td>\n",
              "      <td>1.20E+08</td>\n",
              "    </tr>\n",
              "    <tr>\n",
              "      <th>4884</th>\n",
              "      <td>Bulgarian_Postbank</td>\n",
              "      <td>Bulgarian Postbank</td>\n",
              "      <td>Commercial_bank</td>\n",
              "      <td>1991</td>\n",
              "      <td>Sofia</td>\n",
              "      <td>Loans</td>\n",
              "      <td>Financial_services</td>\n",
              "      <td>3000</td>\n",
              "      <td>6.82E+09</td>\n",
              "      <td>1.15E+09</td>\n",
              "      <td>3.05E+08</td>\n",
              "      <td>1.20E+08</td>\n",
              "    </tr>\n",
              "    <tr>\n",
              "      <th>4885</th>\n",
              "      <td>Bulgarian_Postbank</td>\n",
              "      <td>Bulgarian Postbank</td>\n",
              "      <td>Commercial_bank</td>\n",
              "      <td>1991</td>\n",
              "      <td>Sofia</td>\n",
              "      <td>Asset_management</td>\n",
              "      <td>Financial_services</td>\n",
              "      <td>3000</td>\n",
              "      <td>6.82E+09</td>\n",
              "      <td>1.15E+09</td>\n",
              "      <td>3.05E+08</td>\n",
              "      <td>1.20E+08</td>\n",
              "    </tr>\n",
              "    <tr>\n",
              "      <th>4886</th>\n",
              "      <td>Bulgarian_Postbank</td>\n",
              "      <td>Bulgarian Postbank</td>\n",
              "      <td>Commercial_bank</td>\n",
              "      <td>1991</td>\n",
              "      <td>Sofia</td>\n",
              "      <td>Factoring_(finance)</td>\n",
              "      <td>Financial_services</td>\n",
              "      <td>3000</td>\n",
              "      <td>6.82E+09</td>\n",
              "      <td>1.15E+09</td>\n",
              "      <td>3.05E+08</td>\n",
              "      <td>1.20E+08</td>\n",
              "    </tr>\n",
              "    <tr>\n",
              "      <th>4887</th>\n",
              "      <td>Bulgarian_Postbank</td>\n",
              "      <td>Bulgarian Postbank</td>\n",
              "      <td>Commercial_bank</td>\n",
              "      <td>1991</td>\n",
              "      <td>Sofia</td>\n",
              "      <td>Investment_banking</td>\n",
              "      <td>Financial_services</td>\n",
              "      <td>3000</td>\n",
              "      <td>6.82E+09</td>\n",
              "      <td>1.15E+09</td>\n",
              "      <td>3.05E+08</td>\n",
              "      <td>1.20E+08</td>\n",
              "    </tr>\n",
              "    <tr>\n",
              "      <th>4888</th>\n",
              "      <td>Bulgarian_Postbank</td>\n",
              "      <td>Bulgarian Postbank</td>\n",
              "      <td>Commercial_bank</td>\n",
              "      <td>1991</td>\n",
              "      <td>Sofia</td>\n",
              "      <td>Retail_banking</td>\n",
              "      <td>Financial_services</td>\n",
              "      <td>3000</td>\n",
              "      <td>6.82E+09</td>\n",
              "      <td>1.15E+09</td>\n",
              "      <td>3.05E+08</td>\n",
              "      <td>1.20E+08</td>\n",
              "    </tr>\n",
              "    <tr>\n",
              "      <th>4889</th>\n",
              "      <td>Bulgarian_Postbank</td>\n",
              "      <td>Bulgarian Postbank</td>\n",
              "      <td>Commercial_bank</td>\n",
              "      <td>1991</td>\n",
              "      <td>Sofia</td>\n",
              "      <td>Corporate_banking</td>\n",
              "      <td>Financial_services</td>\n",
              "      <td>3000</td>\n",
              "      <td>6.82E+09</td>\n",
              "      <td>1.15E+09</td>\n",
              "      <td>3.05E+08</td>\n",
              "      <td>1.20E+08</td>\n",
              "    </tr>\n",
              "    <tr>\n",
              "      <th>4890</th>\n",
              "      <td>Bulgarian_Postbank</td>\n",
              "      <td>Bulgarian Postbank</td>\n",
              "      <td>Commercial_bank</td>\n",
              "      <td>1991</td>\n",
              "      <td>Sofia</td>\n",
              "      <td>Loans</td>\n",
              "      <td>Financial_services</td>\n",
              "      <td>3000</td>\n",
              "      <td>6.82E+09</td>\n",
              "      <td>1.15E+09</td>\n",
              "      <td>3.05E+08</td>\n",
              "      <td>1.20E+08</td>\n",
              "    </tr>\n",
              "    <tr>\n",
              "      <th>4891</th>\n",
              "      <td>Bulgarian_Postbank</td>\n",
              "      <td>Bulgarian Postbank</td>\n",
              "      <td>Commercial_bank</td>\n",
              "      <td>1991</td>\n",
              "      <td>Sofia</td>\n",
              "      <td>Asset_management</td>\n",
              "      <td>Financial_services</td>\n",
              "      <td>3000</td>\n",
              "      <td>6.82E+09</td>\n",
              "      <td>1.15E+09</td>\n",
              "      <td>3.05E+08</td>\n",
              "      <td>1.20E+08</td>\n",
              "    </tr>\n",
              "    <tr>\n",
              "      <th>4892</th>\n",
              "      <td>Bulgarian_Postbank</td>\n",
              "      <td>Bulgarian Postbank</td>\n",
              "      <td>Commercial_bank</td>\n",
              "      <td>1991</td>\n",
              "      <td>Sofia</td>\n",
              "      <td>Factoring_(finance)</td>\n",
              "      <td>Financial_services</td>\n",
              "      <td>3000</td>\n",
              "      <td>6.82E+09</td>\n",
              "      <td>1.15E+09</td>\n",
              "      <td>3.05E+08</td>\n",
              "      <td>1.20E+08</td>\n",
              "    </tr>\n",
              "    <tr>\n",
              "      <th>4893</th>\n",
              "      <td>Bulgarian_Postbank</td>\n",
              "      <td>Bulgarian Postbank</td>\n",
              "      <td>Commercial_bank</td>\n",
              "      <td>1991</td>\n",
              "      <td>Sofia</td>\n",
              "      <td>Investment_banking</td>\n",
              "      <td>Financial_services</td>\n",
              "      <td>3000</td>\n",
              "      <td>6.82E+09</td>\n",
              "      <td>1.15E+09</td>\n",
              "      <td>3.05E+08</td>\n",
              "      <td>1.20E+08</td>\n",
              "    </tr>\n",
              "    <tr>\n",
              "      <th>4894</th>\n",
              "      <td>Bulgarian_Postbank</td>\n",
              "      <td>Bulgarian Postbank</td>\n",
              "      <td>Commercial_bank</td>\n",
              "      <td>1991</td>\n",
              "      <td>Sofia</td>\n",
              "      <td>Retail_banking</td>\n",
              "      <td>Financial_services</td>\n",
              "      <td>3000</td>\n",
              "      <td>6.82E+09</td>\n",
              "      <td>1.15E+09</td>\n",
              "      <td>3.05E+08</td>\n",
              "      <td>1.20E+08</td>\n",
              "    </tr>\n",
              "    <tr>\n",
              "      <th>4895</th>\n",
              "      <td>Bulgarian_Postbank</td>\n",
              "      <td>Bulgarian Postbank</td>\n",
              "      <td>Commercial_bank</td>\n",
              "      <td>1991</td>\n",
              "      <td>Sofia</td>\n",
              "      <td>Corporate_banking</td>\n",
              "      <td>Financial_services</td>\n",
              "      <td>3000</td>\n",
              "      <td>6.82E+09</td>\n",
              "      <td>1.15E+09</td>\n",
              "      <td>3.05E+08</td>\n",
              "      <td>1.20E+08</td>\n",
              "    </tr>\n",
              "    <tr>\n",
              "      <th>4896</th>\n",
              "      <td>Bulgarian_Postbank</td>\n",
              "      <td>Bulgarian Postbank</td>\n",
              "      <td>Commercial_bank</td>\n",
              "      <td>1991</td>\n",
              "      <td>Sofia</td>\n",
              "      <td>Loans</td>\n",
              "      <td>Financial_services</td>\n",
              "      <td>3000</td>\n",
              "      <td>6.82E+09</td>\n",
              "      <td>1.15E+09</td>\n",
              "      <td>3.05E+08</td>\n",
              "      <td>1.20E+08</td>\n",
              "    </tr>\n",
              "  </tbody>\n",
              "</table>\n",
              "</div>\n",
              "    <div class=\"colab-df-buttons\">\n",
              "\n",
              "  <div class=\"colab-df-container\">\n",
              "    <button class=\"colab-df-convert\" onclick=\"convertToInteractive('df-5a2308ac-0e1b-456a-8eb4-ccbf2a7ee31e')\"\n",
              "            title=\"Convert this dataframe to an interactive table.\"\n",
              "            style=\"display:none;\">\n",
              "\n",
              "  <svg xmlns=\"http://www.w3.org/2000/svg\" height=\"24px\" viewBox=\"0 -960 960 960\">\n",
              "    <path d=\"M120-120v-720h720v720H120Zm60-500h600v-160H180v160Zm220 220h160v-160H400v160Zm0 220h160v-160H400v160ZM180-400h160v-160H180v160Zm440 0h160v-160H620v160ZM180-180h160v-160H180v160Zm440 0h160v-160H620v160Z\"/>\n",
              "  </svg>\n",
              "    </button>\n",
              "\n",
              "  <style>\n",
              "    .colab-df-container {\n",
              "      display:flex;\n",
              "      gap: 12px;\n",
              "    }\n",
              "\n",
              "    .colab-df-convert {\n",
              "      background-color: #E8F0FE;\n",
              "      border: none;\n",
              "      border-radius: 50%;\n",
              "      cursor: pointer;\n",
              "      display: none;\n",
              "      fill: #1967D2;\n",
              "      height: 32px;\n",
              "      padding: 0 0 0 0;\n",
              "      width: 32px;\n",
              "    }\n",
              "\n",
              "    .colab-df-convert:hover {\n",
              "      background-color: #E2EBFA;\n",
              "      box-shadow: 0px 1px 2px rgba(60, 64, 67, 0.3), 0px 1px 3px 1px rgba(60, 64, 67, 0.15);\n",
              "      fill: #174EA6;\n",
              "    }\n",
              "\n",
              "    .colab-df-buttons div {\n",
              "      margin-bottom: 4px;\n",
              "    }\n",
              "\n",
              "    [theme=dark] .colab-df-convert {\n",
              "      background-color: #3B4455;\n",
              "      fill: #D2E3FC;\n",
              "    }\n",
              "\n",
              "    [theme=dark] .colab-df-convert:hover {\n",
              "      background-color: #434B5C;\n",
              "      box-shadow: 0px 1px 3px 1px rgba(0, 0, 0, 0.15);\n",
              "      filter: drop-shadow(0px 1px 2px rgba(0, 0, 0, 0.3));\n",
              "      fill: #FFFFFF;\n",
              "    }\n",
              "  </style>\n",
              "\n",
              "    <script>\n",
              "      const buttonEl =\n",
              "        document.querySelector('#df-5a2308ac-0e1b-456a-8eb4-ccbf2a7ee31e button.colab-df-convert');\n",
              "      buttonEl.style.display =\n",
              "        google.colab.kernel.accessAllowed ? 'block' : 'none';\n",
              "\n",
              "      async function convertToInteractive(key) {\n",
              "        const element = document.querySelector('#df-5a2308ac-0e1b-456a-8eb4-ccbf2a7ee31e');\n",
              "        const dataTable =\n",
              "          await google.colab.kernel.invokeFunction('convertToInteractive',\n",
              "                                                    [key], {});\n",
              "        if (!dataTable) return;\n",
              "\n",
              "        const docLinkHtml = 'Like what you see? Visit the ' +\n",
              "          '<a target=\"_blank\" href=https://colab.research.google.com/notebooks/data_table.ipynb>data table notebook</a>'\n",
              "          + ' to learn more about interactive tables.';\n",
              "        element.innerHTML = '';\n",
              "        dataTable['output_type'] = 'display_data';\n",
              "        await google.colab.output.renderOutput(dataTable, element);\n",
              "        const docLink = document.createElement('div');\n",
              "        docLink.innerHTML = docLinkHtml;\n",
              "        element.appendChild(docLink);\n",
              "      }\n",
              "    </script>\n",
              "  </div>\n",
              "\n",
              "\n",
              "    <div id=\"df-bbbcc14d-070c-4a9c-a004-1cecb420e0f1\">\n",
              "      <button class=\"colab-df-quickchart\" onclick=\"quickchart('df-bbbcc14d-070c-4a9c-a004-1cecb420e0f1')\"\n",
              "                title=\"Suggest charts\"\n",
              "                style=\"display:none;\">\n",
              "\n",
              "<svg xmlns=\"http://www.w3.org/2000/svg\" height=\"24px\"viewBox=\"0 0 24 24\"\n",
              "     width=\"24px\">\n",
              "    <g>\n",
              "        <path d=\"M19 3H5c-1.1 0-2 .9-2 2v14c0 1.1.9 2 2 2h14c1.1 0 2-.9 2-2V5c0-1.1-.9-2-2-2zM9 17H7v-7h2v7zm4 0h-2V7h2v10zm4 0h-2v-4h2v4z\"/>\n",
              "    </g>\n",
              "</svg>\n",
              "      </button>\n",
              "\n",
              "<style>\n",
              "  .colab-df-quickchart {\n",
              "      --bg-color: #E8F0FE;\n",
              "      --fill-color: #1967D2;\n",
              "      --hover-bg-color: #E2EBFA;\n",
              "      --hover-fill-color: #174EA6;\n",
              "      --disabled-fill-color: #AAA;\n",
              "      --disabled-bg-color: #DDD;\n",
              "  }\n",
              "\n",
              "  [theme=dark] .colab-df-quickchart {\n",
              "      --bg-color: #3B4455;\n",
              "      --fill-color: #D2E3FC;\n",
              "      --hover-bg-color: #434B5C;\n",
              "      --hover-fill-color: #FFFFFF;\n",
              "      --disabled-bg-color: #3B4455;\n",
              "      --disabled-fill-color: #666;\n",
              "  }\n",
              "\n",
              "  .colab-df-quickchart {\n",
              "    background-color: var(--bg-color);\n",
              "    border: none;\n",
              "    border-radius: 50%;\n",
              "    cursor: pointer;\n",
              "    display: none;\n",
              "    fill: var(--fill-color);\n",
              "    height: 32px;\n",
              "    padding: 0;\n",
              "    width: 32px;\n",
              "  }\n",
              "\n",
              "  .colab-df-quickchart:hover {\n",
              "    background-color: var(--hover-bg-color);\n",
              "    box-shadow: 0 1px 2px rgba(60, 64, 67, 0.3), 0 1px 3px 1px rgba(60, 64, 67, 0.15);\n",
              "    fill: var(--button-hover-fill-color);\n",
              "  }\n",
              "\n",
              "  .colab-df-quickchart-complete:disabled,\n",
              "  .colab-df-quickchart-complete:disabled:hover {\n",
              "    background-color: var(--disabled-bg-color);\n",
              "    fill: var(--disabled-fill-color);\n",
              "    box-shadow: none;\n",
              "  }\n",
              "\n",
              "  .colab-df-spinner {\n",
              "    border: 2px solid var(--fill-color);\n",
              "    border-color: transparent;\n",
              "    border-bottom-color: var(--fill-color);\n",
              "    animation:\n",
              "      spin 1s steps(1) infinite;\n",
              "  }\n",
              "\n",
              "  @keyframes spin {\n",
              "    0% {\n",
              "      border-color: transparent;\n",
              "      border-bottom-color: var(--fill-color);\n",
              "      border-left-color: var(--fill-color);\n",
              "    }\n",
              "    20% {\n",
              "      border-color: transparent;\n",
              "      border-left-color: var(--fill-color);\n",
              "      border-top-color: var(--fill-color);\n",
              "    }\n",
              "    30% {\n",
              "      border-color: transparent;\n",
              "      border-left-color: var(--fill-color);\n",
              "      border-top-color: var(--fill-color);\n",
              "      border-right-color: var(--fill-color);\n",
              "    }\n",
              "    40% {\n",
              "      border-color: transparent;\n",
              "      border-right-color: var(--fill-color);\n",
              "      border-top-color: var(--fill-color);\n",
              "    }\n",
              "    60% {\n",
              "      border-color: transparent;\n",
              "      border-right-color: var(--fill-color);\n",
              "    }\n",
              "    80% {\n",
              "      border-color: transparent;\n",
              "      border-right-color: var(--fill-color);\n",
              "      border-bottom-color: var(--fill-color);\n",
              "    }\n",
              "    90% {\n",
              "      border-color: transparent;\n",
              "      border-bottom-color: var(--fill-color);\n",
              "    }\n",
              "  }\n",
              "</style>\n",
              "\n",
              "      <script>\n",
              "        async function quickchart(key) {\n",
              "          const quickchartButtonEl =\n",
              "            document.querySelector('#' + key + ' button');\n",
              "          quickchartButtonEl.disabled = true;  // To prevent multiple clicks.\n",
              "          quickchartButtonEl.classList.add('colab-df-spinner');\n",
              "          try {\n",
              "            const charts = await google.colab.kernel.invokeFunction(\n",
              "                'suggestCharts', [key], {});\n",
              "          } catch (error) {\n",
              "            console.error('Error during call to suggestCharts:', error);\n",
              "          }\n",
              "          quickchartButtonEl.classList.remove('colab-df-spinner');\n",
              "          quickchartButtonEl.classList.add('colab-df-quickchart-complete');\n",
              "        }\n",
              "        (() => {\n",
              "          let quickchartButtonEl =\n",
              "            document.querySelector('#df-bbbcc14d-070c-4a9c-a004-1cecb420e0f1 button');\n",
              "          quickchartButtonEl.style.display =\n",
              "            google.colab.kernel.accessAllowed ? 'block' : 'none';\n",
              "        })();\n",
              "      </script>\n",
              "    </div>\n",
              "\n",
              "    </div>\n",
              "  </div>\n"
            ],
            "text/plain": [
              "                       a                name             type foundation  \\\n",
              "4861  Bulgarian_Postbank  Bulgarian Postbank  Commercial_bank       1991   \n",
              "4862  Bulgarian_Postbank  Bulgarian Postbank  Commercial_bank       1991   \n",
              "4863  Bulgarian_Postbank  Bulgarian Postbank  Commercial_bank       1991   \n",
              "4864  Bulgarian_Postbank  Bulgarian Postbank  Commercial_bank       1991   \n",
              "4865  Bulgarian_Postbank  Bulgarian Postbank  Commercial_bank       1991   \n",
              "4866  Bulgarian_Postbank  Bulgarian Postbank  Commercial_bank       1991   \n",
              "4867  Bulgarian_Postbank  Bulgarian Postbank  Commercial_bank       1991   \n",
              "4868  Bulgarian_Postbank  Bulgarian Postbank  Commercial_bank       1991   \n",
              "4869  Bulgarian_Postbank  Bulgarian Postbank  Commercial_bank       1991   \n",
              "4870  Bulgarian_Postbank  Bulgarian Postbank  Commercial_bank       1991   \n",
              "4871  Bulgarian_Postbank  Bulgarian Postbank  Commercial_bank       1991   \n",
              "4872  Bulgarian_Postbank  Bulgarian Postbank  Commercial_bank       1991   \n",
              "4873  Bulgarian_Postbank  Bulgarian Postbank  Commercial_bank       1991   \n",
              "4874  Bulgarian_Postbank  Bulgarian Postbank  Commercial_bank       1991   \n",
              "4875  Bulgarian_Postbank  Bulgarian Postbank  Commercial_bank       1991   \n",
              "4876  Bulgarian_Postbank  Bulgarian Postbank  Commercial_bank       1991   \n",
              "4877  Bulgarian_Postbank  Bulgarian Postbank  Commercial_bank       1991   \n",
              "4878  Bulgarian_Postbank  Bulgarian Postbank  Commercial_bank       1991   \n",
              "4879  Bulgarian_Postbank  Bulgarian Postbank  Commercial_bank       1991   \n",
              "4880  Bulgarian_Postbank  Bulgarian Postbank  Commercial_bank       1991   \n",
              "4881  Bulgarian_Postbank  Bulgarian Postbank  Commercial_bank       1991   \n",
              "4882  Bulgarian_Postbank  Bulgarian Postbank  Commercial_bank       1991   \n",
              "4883  Bulgarian_Postbank  Bulgarian Postbank  Commercial_bank       1991   \n",
              "4884  Bulgarian_Postbank  Bulgarian Postbank  Commercial_bank       1991   \n",
              "4885  Bulgarian_Postbank  Bulgarian Postbank  Commercial_bank       1991   \n",
              "4886  Bulgarian_Postbank  Bulgarian Postbank  Commercial_bank       1991   \n",
              "4887  Bulgarian_Postbank  Bulgarian Postbank  Commercial_bank       1991   \n",
              "4888  Bulgarian_Postbank  Bulgarian Postbank  Commercial_bank       1991   \n",
              "4889  Bulgarian_Postbank  Bulgarian Postbank  Commercial_bank       1991   \n",
              "4890  Bulgarian_Postbank  Bulgarian Postbank  Commercial_bank       1991   \n",
              "4891  Bulgarian_Postbank  Bulgarian Postbank  Commercial_bank       1991   \n",
              "4892  Bulgarian_Postbank  Bulgarian Postbank  Commercial_bank       1991   \n",
              "4893  Bulgarian_Postbank  Bulgarian Postbank  Commercial_bank       1991   \n",
              "4894  Bulgarian_Postbank  Bulgarian Postbank  Commercial_bank       1991   \n",
              "4895  Bulgarian_Postbank  Bulgarian Postbank  Commercial_bank       1991   \n",
              "4896  Bulgarian_Postbank  Bulgarian Postbank  Commercial_bank       1991   \n",
              "\n",
              "      location             products              sector  employee    assets  \\\n",
              "4861  Bulgaria     Asset_management  Financial_services      3000  6.82E+09   \n",
              "4862  Bulgaria  Factoring_(finance)  Financial_services      3000  6.82E+09   \n",
              "4863  Bulgaria   Investment_banking  Financial_services      3000  6.82E+09   \n",
              "4864  Bulgaria       Retail_banking  Financial_services      3000  6.82E+09   \n",
              "4865  Bulgaria    Corporate_banking  Financial_services      3000  6.82E+09   \n",
              "4866  Bulgaria                Loans  Financial_services      3000  6.82E+09   \n",
              "4867  Bulgaria     Asset_management  Financial_services      3000  6.82E+09   \n",
              "4868  Bulgaria  Factoring_(finance)  Financial_services      3000  6.82E+09   \n",
              "4869  Bulgaria   Investment_banking  Financial_services      3000  6.82E+09   \n",
              "4870  Bulgaria       Retail_banking  Financial_services      3000  6.82E+09   \n",
              "4871  Bulgaria    Corporate_banking  Financial_services      3000  6.82E+09   \n",
              "4872  Bulgaria                Loans  Financial_services      3000  6.82E+09   \n",
              "4873  Bulgaria     Asset_management  Financial_services      3000  6.82E+09   \n",
              "4874  Bulgaria  Factoring_(finance)  Financial_services      3000  6.82E+09   \n",
              "4875  Bulgaria   Investment_banking  Financial_services      3000  6.82E+09   \n",
              "4876  Bulgaria       Retail_banking  Financial_services      3000  6.82E+09   \n",
              "4877  Bulgaria    Corporate_banking  Financial_services      3000  6.82E+09   \n",
              "4878  Bulgaria                Loans  Financial_services      3000  6.82E+09   \n",
              "4879     Sofia     Asset_management  Financial_services      3000  6.82E+09   \n",
              "4880     Sofia  Factoring_(finance)  Financial_services      3000  6.82E+09   \n",
              "4881     Sofia   Investment_banking  Financial_services      3000  6.82E+09   \n",
              "4882     Sofia       Retail_banking  Financial_services      3000  6.82E+09   \n",
              "4883     Sofia    Corporate_banking  Financial_services      3000  6.82E+09   \n",
              "4884     Sofia                Loans  Financial_services      3000  6.82E+09   \n",
              "4885     Sofia     Asset_management  Financial_services      3000  6.82E+09   \n",
              "4886     Sofia  Factoring_(finance)  Financial_services      3000  6.82E+09   \n",
              "4887     Sofia   Investment_banking  Financial_services      3000  6.82E+09   \n",
              "4888     Sofia       Retail_banking  Financial_services      3000  6.82E+09   \n",
              "4889     Sofia    Corporate_banking  Financial_services      3000  6.82E+09   \n",
              "4890     Sofia                Loans  Financial_services      3000  6.82E+09   \n",
              "4891     Sofia     Asset_management  Financial_services      3000  6.82E+09   \n",
              "4892     Sofia  Factoring_(finance)  Financial_services      3000  6.82E+09   \n",
              "4893     Sofia   Investment_banking  Financial_services      3000  6.82E+09   \n",
              "4894     Sofia       Retail_banking  Financial_services      3000  6.82E+09   \n",
              "4895     Sofia    Corporate_banking  Financial_services      3000  6.82E+09   \n",
              "4896     Sofia                Loans  Financial_services      3000  6.82E+09   \n",
              "\n",
              "        equity   revenue    profit  \n",
              "4861  1.15E+09  3.05E+08  1.20E+08  \n",
              "4862  1.15E+09  3.05E+08  1.20E+08  \n",
              "4863  1.15E+09  3.05E+08  1.20E+08  \n",
              "4864  1.15E+09  3.05E+08  1.20E+08  \n",
              "4865  1.15E+09  3.05E+08  1.20E+08  \n",
              "4866  1.15E+09  3.05E+08  1.20E+08  \n",
              "4867  1.15E+09  3.05E+08  1.20E+08  \n",
              "4868  1.15E+09  3.05E+08  1.20E+08  \n",
              "4869  1.15E+09  3.05E+08  1.20E+08  \n",
              "4870  1.15E+09  3.05E+08  1.20E+08  \n",
              "4871  1.15E+09  3.05E+08  1.20E+08  \n",
              "4872  1.15E+09  3.05E+08  1.20E+08  \n",
              "4873  1.15E+09  3.05E+08  1.20E+08  \n",
              "4874  1.15E+09  3.05E+08  1.20E+08  \n",
              "4875  1.15E+09  3.05E+08  1.20E+08  \n",
              "4876  1.15E+09  3.05E+08  1.20E+08  \n",
              "4877  1.15E+09  3.05E+08  1.20E+08  \n",
              "4878  1.15E+09  3.05E+08  1.20E+08  \n",
              "4879  1.15E+09  3.05E+08  1.20E+08  \n",
              "4880  1.15E+09  3.05E+08  1.20E+08  \n",
              "4881  1.15E+09  3.05E+08  1.20E+08  \n",
              "4882  1.15E+09  3.05E+08  1.20E+08  \n",
              "4883  1.15E+09  3.05E+08  1.20E+08  \n",
              "4884  1.15E+09  3.05E+08  1.20E+08  \n",
              "4885  1.15E+09  3.05E+08  1.20E+08  \n",
              "4886  1.15E+09  3.05E+08  1.20E+08  \n",
              "4887  1.15E+09  3.05E+08  1.20E+08  \n",
              "4888  1.15E+09  3.05E+08  1.20E+08  \n",
              "4889  1.15E+09  3.05E+08  1.20E+08  \n",
              "4890  1.15E+09  3.05E+08  1.20E+08  \n",
              "4891  1.15E+09  3.05E+08  1.20E+08  \n",
              "4892  1.15E+09  3.05E+08  1.20E+08  \n",
              "4893  1.15E+09  3.05E+08  1.20E+08  \n",
              "4894  1.15E+09  3.05E+08  1.20E+08  \n",
              "4895  1.15E+09  3.05E+08  1.20E+08  \n",
              "4896  1.15E+09  3.05E+08  1.20E+08  "
            ]
          },
          "execution_count": 258,
          "metadata": {},
          "output_type": "execute_result"
        }
      ],
      "source": [
        "# Alternative solution: renaming all 'name' values to Bulgarian Postbank fixes both issues\n",
        "\n",
        "#if column 'a' value == 'Bulgarian_Postbank' then name == 'Bulgarian Postbank'\n",
        "df.loc[df['a'] == 'Bulgarian_Postbank', 'name'] = 'Bulgarian Postbank'\n",
        "\n",
        "df.loc[df['a'] == 'Bulgarian_Postbank']\n"
      ]
    },
    {
      "cell_type": "markdown",
      "metadata": {
        "id": "K3sSn9fqQcd5"
      },
      "source": [
        "### Problem 7: Missing Values in 'location'"
      ]
    },
    {
      "cell_type": "markdown",
      "metadata": {
        "id": "OEx9PnJ5wxxj"
      },
      "source": [
        "When imputing data from other columns, we assume the reliability of data in that column.\n",
        "\n",
        "Go through the process of analysing the column dataset before you make any decision."
      ]
    },
    {
      "cell_type": "code",
      "execution_count": null,
      "metadata": {
        "colab": {
          "base_uri": "https://localhost:8080/"
        },
        "id": "Maq4RXL5IQc_",
        "outputId": "b23123c7-c026-4a96-cd5c-951eacfd4d17"
      },
      "outputs": [
        {
          "name": "stdout",
          "output_type": "stream",
          "text": [
            "Of 250 possible 'a' values, 9 account for all missing 'location' values\n",
            "\n",
            "Unique 'a' values: {'NCSoft', 'Lazard', 'Ansys', 'Analog_Devices', 'Nuance_Communications', 'Dialog_Axiata', 'Gannett', 'Petron_Corporation', 'Amgen'}\n"
          ]
        }
      ],
      "source": [
        "#show df column 'name' where data is missing\n",
        "missing_location = df.loc[df['location'].isnull()]\n",
        "\n",
        "# Is the data missing completely at random or not?\n",
        "unique_a_values = set(missing_location['a'].unique())\n",
        "num_unique_a_values = len(unique_a_values)\n",
        "\n",
        "print(f\"Of 250 possible 'a' values, {num_unique_a_values} account for all missing 'location' values\\n\")\n",
        "\n",
        "print(f\"Unique 'a' values: {unique_a_values}\")\n",
        "# The data is not missing completely at random!\n"
      ]
    },
    {
      "cell_type": "markdown",
      "metadata": {
        "id": "Ug4QXaT_SuJV"
      },
      "source": [
        "\n",
        "\n",
        "Often data is not missing completely at random. Quick analysis (and thinking!) can set you and your dataset up for success later...\n",
        "\n",
        "Considerations with replacing missing `location` with `foundation` using one of our 9 'a' values e.g. Lazard\n",
        "\n",
        "- when location is not null, foundation is not the same as location\n",
        "- when location is not null, naming convention of foundation is not the same as location\n",
        "- when location is...wait a second, what is actually in `foundation`?"
      ]
    },
    {
      "cell_type": "markdown",
      "metadata": {
        "id": "a9p6Xu07UKU3"
      },
      "source": [
        "### Missing v Incorrect Data\n",
        "\n",
        "Key assumption is that `foundation` contains location data. We don't necessarily know what location data is but we do know what *it isn't*\n",
        "\n",
        "Location Data is not:\n",
        "1. Integers (note: geolocation would be a float)\n",
        "2. Dates (note: use a regex convention)\n",
        "3. One character (note: could be two if state e.g. \"CA\" or country \"US\")"
      ]
    },
    {
      "cell_type": "code",
      "execution_count": null,
      "metadata": {
        "colab": {
          "base_uri": "https://localhost:8080/"
        },
        "id": "AHHpx5yjSLjZ",
        "outputId": "9175bdf9-ade0-40e0-d709-ff71a5c7a565"
      },
      "outputs": [
        {
          "name": "stdout",
          "output_type": "stream",
          "text": [
            "Removed 2570 numeric values\n",
            "Removed 3869 date values\n",
            "Removed 368 one character values\n",
            "Total values removed: 6755\n"
          ]
        }
      ],
      "source": [
        "def clean_foundation_column(df) -> pd.DataFrame:\n",
        "    df = df.copy()\n",
        "\n",
        "    # Track changes\n",
        "    original_count = df[\"foundation\"].notna().sum()\n",
        "    changes = {\"dates\": 0, \"numbers\": 0}\n",
        "\n",
        "    # Strip whitespace\n",
        "    df[\"foundation\"] = df[\"foundation\"].str.strip()\n",
        "\n",
        "    # Detect and replace pure numbers\n",
        "    numeric_mask = df[\"foundation\"].str.match(r'^\\d+$', na=False)\n",
        "    changes[\"numbers\"] = numeric_mask.sum()\n",
        "\n",
        "    # Detect and replace date patterns (m/d/yyyy, mm/dd/yyyy, etc.)\n",
        "    date_mask = df[\"foundation\"].str.match(r'^\\d{1,2}/\\d{1,2}/\\d{4}$', na=False)\n",
        "    changes[\"dates\"] = date_mask.sum()\n",
        "\n",
        "    # Detect 1 character i.e. not a word\n",
        "    one_char_mask = df[\"location\"].str.len() == 1\n",
        "    changes[\"one_char\"] = one_char_mask.sum()\n",
        "\n",
        "    # Replace matched values with NaN\n",
        "    df.loc[numeric_mask | date_mask | one_char_mask, \"foundation\"] = np.nan\n",
        "\n",
        "    # Report changes\n",
        "    final_count = df[\"foundation\"].notna().sum()\n",
        "    print(f\"Removed {changes['numbers']} numeric values\")\n",
        "    print(f\"Removed {changes['dates']} date values\")\n",
        "    print(f\"Removed {changes['one_char']} one character values\")\n",
        "    print(f\"Total values removed: {original_count - final_count}\")\n",
        "\n",
        "    return df\n",
        "\n",
        "df = clean_foundation_column(df)"
      ]
    },
    {
      "cell_type": "code",
      "execution_count": null,
      "metadata": {
        "colab": {
          "base_uri": "https://localhost:8080/"
        },
        "id": "iMENHqb8TrJb",
        "outputId": "1f961cd0-7906-464a-a466-2dd95f5e8f10"
      },
      "outputs": [
        {
          "name": "stdout",
          "output_type": "stream",
          "text": [
            "Removed 1268 numeric values\n",
            "Removed 0 date values\n",
            "Removed 368 one character values\n",
            "Total values removed: 1280\n"
          ]
        }
      ],
      "source": [
        "def clean_location_column(df) -> pd.DataFrame:\n",
        "    df = df.copy()\n",
        "\n",
        "    # Track changes\n",
        "    original_count = df[\"location\"].notna().sum()\n",
        "    changes = {\"dates\": 0, \"numbers\": 0}\n",
        "\n",
        "    # Strip whitespace\n",
        "    df[\"location\"] = df[\"location\"].str.strip()\n",
        "\n",
        "    # Detect and replace pure numbers\n",
        "    numeric_mask = df[\"location\"].str.match(r'^\\d+$', na=False)\n",
        "    changes[\"numbers\"] = numeric_mask.sum()\n",
        "\n",
        "    # Detect and replace date patterns (m/d/yyyy, mm/dd/yyyy, etc.)\n",
        "    date_mask = df[\"location\"].str.match(r'^\\d{1,2}/\\d{1,2}/\\d{4}$', na=False)\n",
        "    changes[\"dates\"] = date_mask.sum()\n",
        "\n",
        "    # Detect 1 character i.e. not a word\n",
        "    one_char_mask = df[\"location\"].str.len() == 1\n",
        "    changes[\"one_char\"] = one_char_mask.sum()\n",
        "\n",
        "    # Replace matched values with NaN\n",
        "    df.loc[numeric_mask | date_mask | one_char_mask, \"location\"] = np.nan\n",
        "\n",
        "    # Report changes\n",
        "    final_count = df[\"location\"].notna().sum()\n",
        "    print(f\"Removed {changes['numbers']} numeric values\")\n",
        "    print(f\"Removed {changes['dates']} date values\")\n",
        "    print(f\"Removed {changes['one_char']} one character values\")\n",
        "    print(f\"Total values removed: {original_count - final_count}\")\n",
        "\n",
        "    return df\n",
        "\n",
        "df = clean_location_column(df)"
      ]
    },
    {
      "cell_type": "code",
      "execution_count": null,
      "metadata": {
        "colab": {
          "base_uri": "https://localhost:8080/",
          "height": 463
        },
        "id": "y_75C9Z7WZow",
        "outputId": "efaf83ae-9c8d-40cf-a16a-55dc12271bc1"
      },
      "outputs": [
        {
          "data": {
            "application/vnd.google.colaboratory.intrinsic+json": {
              "summary": "{\n  \"name\": \"summary_stats(df)\",\n  \"rows\": 12,\n  \"fields\": [\n    {\n      \"column\": \"dtype\",\n      \"properties\": {\n        \"dtype\": \"category\",\n        \"num_unique_values\": 2,\n        \"samples\": [\n          \"int64\",\n          \"object\"\n        ],\n        \"semantic_type\": \"\",\n        \"description\": \"\"\n      }\n    },\n    {\n      \"column\": \"sample_val\",\n      \"properties\": {\n        \"dtype\": \"string\",\n        \"num_unique_values\": 12,\n        \"samples\": [\n          \"1.34E+10\",\n          \"6.49E+09\"\n        ],\n        \"semantic_type\": \"\",\n        \"description\": \"\"\n      }\n    },\n    {\n      \"column\": \"vals\",\n      \"properties\": {\n        \"dtype\": \"number\",\n        \"std\": 2134,\n        \"min\": 2910,\n        \"max\": 10000,\n        \"num_unique_values\": 9,\n        \"samples\": [\n          6943,\n          9981\n        ],\n        \"semantic_type\": \"\",\n        \"description\": \"\"\n      }\n    },\n    {\n      \"column\": \"miss_pct\",\n      \"properties\": {\n        \"dtype\": \"number\",\n        \"std\": 21.34497847411906,\n        \"min\": 0.0,\n        \"max\": 70.9,\n        \"num_unique_values\": 9,\n        \"samples\": [\n          30.6,\n          0.2\n        ],\n        \"semantic_type\": \"\",\n        \"description\": \"\"\n      }\n    },\n    {\n      \"column\": \"unique\",\n      \"properties\": {\n        \"dtype\": \"number\",\n        \"std\": 102,\n        \"min\": 58,\n        \"max\": 434,\n        \"num_unique_values\": 11,\n        \"samples\": [\n          434,\n          250\n        ],\n        \"semantic_type\": \"\",\n        \"description\": \"\"\n      }\n    },\n    {\n      \"column\": \"mean\",\n      \"properties\": {\n        \"dtype\": \"number\",\n        \"std\": null,\n        \"min\": 7803.18,\n        \"max\": 7803.18,\n        \"num_unique_values\": 1,\n        \"samples\": [\n          7803.18\n        ],\n        \"semantic_type\": \"\",\n        \"description\": \"\"\n      }\n    },\n    {\n      \"column\": \"mode\",\n      \"properties\": {\n        \"dtype\": \"number\",\n        \"std\": null,\n        \"min\": 827.0,\n        \"max\": 827.0,\n        \"num_unique_values\": 1,\n        \"samples\": [\n          827.0\n        ],\n        \"semantic_type\": \"\",\n        \"description\": \"\"\n      }\n    },\n    {\n      \"column\": \"min\",\n      \"properties\": {\n        \"dtype\": \"number\",\n        \"std\": null,\n        \"min\": 4.0,\n        \"max\": 4.0,\n        \"num_unique_values\": 1,\n        \"samples\": [\n          4.0\n        ],\n        \"semantic_type\": \"\",\n        \"description\": \"\"\n      }\n    },\n    {\n      \"column\": \"max\",\n      \"properties\": {\n        \"dtype\": \"number\",\n        \"std\": null,\n        \"min\": 70100.0,\n        \"max\": 70100.0,\n        \"num_unique_values\": 1,\n        \"samples\": [\n          70100.0\n        ],\n        \"semantic_type\": \"\",\n        \"description\": \"\"\n      }\n    },\n    {\n      \"column\": \"std\",\n      \"properties\": {\n        \"dtype\": \"number\",\n        \"std\": null,\n        \"min\": 11984.44,\n        \"max\": 11984.44,\n        \"num_unique_values\": 1,\n        \"samples\": [\n          11984.44\n        ],\n        \"semantic_type\": \"\",\n        \"description\": \"\"\n      }\n    },\n    {\n      \"column\": \"skew\",\n      \"properties\": {\n        \"dtype\": \"number\",\n        \"std\": null,\n        \"min\": 2.7,\n        \"max\": 2.7,\n        \"num_unique_values\": 1,\n        \"samples\": [\n          2.7\n        ],\n        \"semantic_type\": \"\",\n        \"description\": \"\"\n      }\n    },\n    {\n      \"column\": \"kurtosis\",\n      \"properties\": {\n        \"dtype\": \"number\",\n        \"std\": null,\n        \"min\": 8.2,\n        \"max\": 8.2,\n        \"num_unique_values\": 1,\n        \"samples\": [\n          8.2\n        ],\n        \"semantic_type\": \"\",\n        \"description\": \"\"\n      }\n    }\n  ]\n}",
              "type": "dataframe"
            },
            "text/html": [
              "\n",
              "  <div id=\"df-360b11fe-461e-4160-93c0-77e83ce442ae\" class=\"colab-df-container\">\n",
              "    <div>\n",
              "<style scoped>\n",
              "    .dataframe tbody tr th:only-of-type {\n",
              "        vertical-align: middle;\n",
              "    }\n",
              "\n",
              "    .dataframe tbody tr th {\n",
              "        vertical-align: top;\n",
              "    }\n",
              "\n",
              "    .dataframe thead th {\n",
              "        text-align: right;\n",
              "    }\n",
              "</style>\n",
              "<table border=\"1\" class=\"dataframe\">\n",
              "  <thead>\n",
              "    <tr style=\"text-align: right;\">\n",
              "      <th></th>\n",
              "      <th>dtype</th>\n",
              "      <th>sample_val</th>\n",
              "      <th>vals</th>\n",
              "      <th>miss_pct</th>\n",
              "      <th>unique</th>\n",
              "      <th>mean</th>\n",
              "      <th>mode</th>\n",
              "      <th>min</th>\n",
              "      <th>max</th>\n",
              "      <th>std</th>\n",
              "      <th>skew</th>\n",
              "      <th>kurtosis</th>\n",
              "    </tr>\n",
              "  </thead>\n",
              "  <tbody>\n",
              "    <tr>\n",
              "      <th>a</th>\n",
              "      <td>object</td>\n",
              "      <td>Ruby_Tuesday_(restaurant)</td>\n",
              "      <td>10000</td>\n",
              "      <td>0.0</td>\n",
              "      <td>250</td>\n",
              "      <td>NaN</td>\n",
              "      <td>NaN</td>\n",
              "      <td>NaN</td>\n",
              "      <td>NaN</td>\n",
              "      <td>NaN</td>\n",
              "      <td>NaN</td>\n",
              "      <td>NaN</td>\n",
              "    </tr>\n",
              "    <tr>\n",
              "      <th>name</th>\n",
              "      <td>object</td>\n",
              "      <td>MetaBank</td>\n",
              "      <td>9981</td>\n",
              "      <td>0.2</td>\n",
              "      <td>258</td>\n",
              "      <td>NaN</td>\n",
              "      <td>NaN</td>\n",
              "      <td>NaN</td>\n",
              "      <td>NaN</td>\n",
              "      <td>NaN</td>\n",
              "      <td>NaN</td>\n",
              "      <td>NaN</td>\n",
              "    </tr>\n",
              "    <tr>\n",
              "      <th>type</th>\n",
              "      <td>object</td>\n",
              "      <td>Public_company</td>\n",
              "      <td>10000</td>\n",
              "      <td>0.0</td>\n",
              "      <td>58</td>\n",
              "      <td>NaN</td>\n",
              "      <td>NaN</td>\n",
              "      <td>NaN</td>\n",
              "      <td>NaN</td>\n",
              "      <td>NaN</td>\n",
              "      <td>NaN</td>\n",
              "      <td>NaN</td>\n",
              "    </tr>\n",
              "    <tr>\n",
              "      <th>foundation</th>\n",
              "      <td>object</td>\n",
              "      <td>Luxembourg</td>\n",
              "      <td>2910</td>\n",
              "      <td>70.9</td>\n",
              "      <td>71</td>\n",
              "      <td>NaN</td>\n",
              "      <td>NaN</td>\n",
              "      <td>NaN</td>\n",
              "      <td>NaN</td>\n",
              "      <td>NaN</td>\n",
              "      <td>NaN</td>\n",
              "      <td>NaN</td>\n",
              "    </tr>\n",
              "    <tr>\n",
              "      <th>location</th>\n",
              "      <td>object</td>\n",
              "      <td>Duluth, Georgia, United States</td>\n",
              "      <td>8656</td>\n",
              "      <td>13.4</td>\n",
              "      <td>297</td>\n",
              "      <td>NaN</td>\n",
              "      <td>NaN</td>\n",
              "      <td>NaN</td>\n",
              "      <td>NaN</td>\n",
              "      <td>NaN</td>\n",
              "      <td>NaN</td>\n",
              "      <td>NaN</td>\n",
              "    </tr>\n",
              "    <tr>\n",
              "      <th>products</th>\n",
              "      <td>object</td>\n",
              "      <td>Cement</td>\n",
              "      <td>9014</td>\n",
              "      <td>9.9</td>\n",
              "      <td>434</td>\n",
              "      <td>NaN</td>\n",
              "      <td>NaN</td>\n",
              "      <td>NaN</td>\n",
              "      <td>NaN</td>\n",
              "      <td>NaN</td>\n",
              "      <td>NaN</td>\n",
              "      <td>NaN</td>\n",
              "    </tr>\n",
              "    <tr>\n",
              "      <th>sector</th>\n",
              "      <td>object</td>\n",
              "      <td>Financial_services</td>\n",
              "      <td>10000</td>\n",
              "      <td>0.0</td>\n",
              "      <td>129</td>\n",
              "      <td>NaN</td>\n",
              "      <td>NaN</td>\n",
              "      <td>NaN</td>\n",
              "      <td>NaN</td>\n",
              "      <td>NaN</td>\n",
              "      <td>NaN</td>\n",
              "      <td>NaN</td>\n",
              "    </tr>\n",
              "    <tr>\n",
              "      <th>employee</th>\n",
              "      <td>int64</td>\n",
              "      <td>19568</td>\n",
              "      <td>10000</td>\n",
              "      <td>0.0</td>\n",
              "      <td>243</td>\n",
              "      <td>7803.18</td>\n",
              "      <td>827.0</td>\n",
              "      <td>4.0</td>\n",
              "      <td>70100.0</td>\n",
              "      <td>11984.44</td>\n",
              "      <td>2.7</td>\n",
              "      <td>8.2</td>\n",
              "    </tr>\n",
              "    <tr>\n",
              "      <th>assets</th>\n",
              "      <td>object</td>\n",
              "      <td>2.42E+10</td>\n",
              "      <td>7103</td>\n",
              "      <td>29.0</td>\n",
              "      <td>252</td>\n",
              "      <td>NaN</td>\n",
              "      <td>NaN</td>\n",
              "      <td>NaN</td>\n",
              "      <td>NaN</td>\n",
              "      <td>NaN</td>\n",
              "      <td>NaN</td>\n",
              "      <td>NaN</td>\n",
              "    </tr>\n",
              "    <tr>\n",
              "      <th>equity</th>\n",
              "      <td>object</td>\n",
              "      <td>6.49E+09</td>\n",
              "      <td>7124</td>\n",
              "      <td>28.8</td>\n",
              "      <td>252</td>\n",
              "      <td>NaN</td>\n",
              "      <td>NaN</td>\n",
              "      <td>NaN</td>\n",
              "      <td>NaN</td>\n",
              "      <td>NaN</td>\n",
              "      <td>NaN</td>\n",
              "      <td>NaN</td>\n",
              "    </tr>\n",
              "    <tr>\n",
              "      <th>revenue</th>\n",
              "      <td>object</td>\n",
              "      <td>1.34E+10</td>\n",
              "      <td>6943</td>\n",
              "      <td>30.6</td>\n",
              "      <td>257</td>\n",
              "      <td>NaN</td>\n",
              "      <td>NaN</td>\n",
              "      <td>NaN</td>\n",
              "      <td>NaN</td>\n",
              "      <td>NaN</td>\n",
              "      <td>NaN</td>\n",
              "      <td>NaN</td>\n",
              "    </tr>\n",
              "    <tr>\n",
              "      <th>profit</th>\n",
              "      <td>object</td>\n",
              "      <td>3.95E+08</td>\n",
              "      <td>7107</td>\n",
              "      <td>28.9</td>\n",
              "      <td>255</td>\n",
              "      <td>NaN</td>\n",
              "      <td>NaN</td>\n",
              "      <td>NaN</td>\n",
              "      <td>NaN</td>\n",
              "      <td>NaN</td>\n",
              "      <td>NaN</td>\n",
              "      <td>NaN</td>\n",
              "    </tr>\n",
              "  </tbody>\n",
              "</table>\n",
              "</div>\n",
              "    <div class=\"colab-df-buttons\">\n",
              "\n",
              "  <div class=\"colab-df-container\">\n",
              "    <button class=\"colab-df-convert\" onclick=\"convertToInteractive('df-360b11fe-461e-4160-93c0-77e83ce442ae')\"\n",
              "            title=\"Convert this dataframe to an interactive table.\"\n",
              "            style=\"display:none;\">\n",
              "\n",
              "  <svg xmlns=\"http://www.w3.org/2000/svg\" height=\"24px\" viewBox=\"0 -960 960 960\">\n",
              "    <path d=\"M120-120v-720h720v720H120Zm60-500h600v-160H180v160Zm220 220h160v-160H400v160Zm0 220h160v-160H400v160ZM180-400h160v-160H180v160Zm440 0h160v-160H620v160ZM180-180h160v-160H180v160Zm440 0h160v-160H620v160Z\"/>\n",
              "  </svg>\n",
              "    </button>\n",
              "\n",
              "  <style>\n",
              "    .colab-df-container {\n",
              "      display:flex;\n",
              "      gap: 12px;\n",
              "    }\n",
              "\n",
              "    .colab-df-convert {\n",
              "      background-color: #E8F0FE;\n",
              "      border: none;\n",
              "      border-radius: 50%;\n",
              "      cursor: pointer;\n",
              "      display: none;\n",
              "      fill: #1967D2;\n",
              "      height: 32px;\n",
              "      padding: 0 0 0 0;\n",
              "      width: 32px;\n",
              "    }\n",
              "\n",
              "    .colab-df-convert:hover {\n",
              "      background-color: #E2EBFA;\n",
              "      box-shadow: 0px 1px 2px rgba(60, 64, 67, 0.3), 0px 1px 3px 1px rgba(60, 64, 67, 0.15);\n",
              "      fill: #174EA6;\n",
              "    }\n",
              "\n",
              "    .colab-df-buttons div {\n",
              "      margin-bottom: 4px;\n",
              "    }\n",
              "\n",
              "    [theme=dark] .colab-df-convert {\n",
              "      background-color: #3B4455;\n",
              "      fill: #D2E3FC;\n",
              "    }\n",
              "\n",
              "    [theme=dark] .colab-df-convert:hover {\n",
              "      background-color: #434B5C;\n",
              "      box-shadow: 0px 1px 3px 1px rgba(0, 0, 0, 0.15);\n",
              "      filter: drop-shadow(0px 1px 2px rgba(0, 0, 0, 0.3));\n",
              "      fill: #FFFFFF;\n",
              "    }\n",
              "  </style>\n",
              "\n",
              "    <script>\n",
              "      const buttonEl =\n",
              "        document.querySelector('#df-360b11fe-461e-4160-93c0-77e83ce442ae button.colab-df-convert');\n",
              "      buttonEl.style.display =\n",
              "        google.colab.kernel.accessAllowed ? 'block' : 'none';\n",
              "\n",
              "      async function convertToInteractive(key) {\n",
              "        const element = document.querySelector('#df-360b11fe-461e-4160-93c0-77e83ce442ae');\n",
              "        const dataTable =\n",
              "          await google.colab.kernel.invokeFunction('convertToInteractive',\n",
              "                                                    [key], {});\n",
              "        if (!dataTable) return;\n",
              "\n",
              "        const docLinkHtml = 'Like what you see? Visit the ' +\n",
              "          '<a target=\"_blank\" href=https://colab.research.google.com/notebooks/data_table.ipynb>data table notebook</a>'\n",
              "          + ' to learn more about interactive tables.';\n",
              "        element.innerHTML = '';\n",
              "        dataTable['output_type'] = 'display_data';\n",
              "        await google.colab.output.renderOutput(dataTable, element);\n",
              "        const docLink = document.createElement('div');\n",
              "        docLink.innerHTML = docLinkHtml;\n",
              "        element.appendChild(docLink);\n",
              "      }\n",
              "    </script>\n",
              "  </div>\n",
              "\n",
              "\n",
              "    <div id=\"df-cbfbe051-fb75-432b-bd6b-0921cda755ff\">\n",
              "      <button class=\"colab-df-quickchart\" onclick=\"quickchart('df-cbfbe051-fb75-432b-bd6b-0921cda755ff')\"\n",
              "                title=\"Suggest charts\"\n",
              "                style=\"display:none;\">\n",
              "\n",
              "<svg xmlns=\"http://www.w3.org/2000/svg\" height=\"24px\"viewBox=\"0 0 24 24\"\n",
              "     width=\"24px\">\n",
              "    <g>\n",
              "        <path d=\"M19 3H5c-1.1 0-2 .9-2 2v14c0 1.1.9 2 2 2h14c1.1 0 2-.9 2-2V5c0-1.1-.9-2-2-2zM9 17H7v-7h2v7zm4 0h-2V7h2v10zm4 0h-2v-4h2v4z\"/>\n",
              "    </g>\n",
              "</svg>\n",
              "      </button>\n",
              "\n",
              "<style>\n",
              "  .colab-df-quickchart {\n",
              "      --bg-color: #E8F0FE;\n",
              "      --fill-color: #1967D2;\n",
              "      --hover-bg-color: #E2EBFA;\n",
              "      --hover-fill-color: #174EA6;\n",
              "      --disabled-fill-color: #AAA;\n",
              "      --disabled-bg-color: #DDD;\n",
              "  }\n",
              "\n",
              "  [theme=dark] .colab-df-quickchart {\n",
              "      --bg-color: #3B4455;\n",
              "      --fill-color: #D2E3FC;\n",
              "      --hover-bg-color: #434B5C;\n",
              "      --hover-fill-color: #FFFFFF;\n",
              "      --disabled-bg-color: #3B4455;\n",
              "      --disabled-fill-color: #666;\n",
              "  }\n",
              "\n",
              "  .colab-df-quickchart {\n",
              "    background-color: var(--bg-color);\n",
              "    border: none;\n",
              "    border-radius: 50%;\n",
              "    cursor: pointer;\n",
              "    display: none;\n",
              "    fill: var(--fill-color);\n",
              "    height: 32px;\n",
              "    padding: 0;\n",
              "    width: 32px;\n",
              "  }\n",
              "\n",
              "  .colab-df-quickchart:hover {\n",
              "    background-color: var(--hover-bg-color);\n",
              "    box-shadow: 0 1px 2px rgba(60, 64, 67, 0.3), 0 1px 3px 1px rgba(60, 64, 67, 0.15);\n",
              "    fill: var(--button-hover-fill-color);\n",
              "  }\n",
              "\n",
              "  .colab-df-quickchart-complete:disabled,\n",
              "  .colab-df-quickchart-complete:disabled:hover {\n",
              "    background-color: var(--disabled-bg-color);\n",
              "    fill: var(--disabled-fill-color);\n",
              "    box-shadow: none;\n",
              "  }\n",
              "\n",
              "  .colab-df-spinner {\n",
              "    border: 2px solid var(--fill-color);\n",
              "    border-color: transparent;\n",
              "    border-bottom-color: var(--fill-color);\n",
              "    animation:\n",
              "      spin 1s steps(1) infinite;\n",
              "  }\n",
              "\n",
              "  @keyframes spin {\n",
              "    0% {\n",
              "      border-color: transparent;\n",
              "      border-bottom-color: var(--fill-color);\n",
              "      border-left-color: var(--fill-color);\n",
              "    }\n",
              "    20% {\n",
              "      border-color: transparent;\n",
              "      border-left-color: var(--fill-color);\n",
              "      border-top-color: var(--fill-color);\n",
              "    }\n",
              "    30% {\n",
              "      border-color: transparent;\n",
              "      border-left-color: var(--fill-color);\n",
              "      border-top-color: var(--fill-color);\n",
              "      border-right-color: var(--fill-color);\n",
              "    }\n",
              "    40% {\n",
              "      border-color: transparent;\n",
              "      border-right-color: var(--fill-color);\n",
              "      border-top-color: var(--fill-color);\n",
              "    }\n",
              "    60% {\n",
              "      border-color: transparent;\n",
              "      border-right-color: var(--fill-color);\n",
              "    }\n",
              "    80% {\n",
              "      border-color: transparent;\n",
              "      border-right-color: var(--fill-color);\n",
              "      border-bottom-color: var(--fill-color);\n",
              "    }\n",
              "    90% {\n",
              "      border-color: transparent;\n",
              "      border-bottom-color: var(--fill-color);\n",
              "    }\n",
              "  }\n",
              "</style>\n",
              "\n",
              "      <script>\n",
              "        async function quickchart(key) {\n",
              "          const quickchartButtonEl =\n",
              "            document.querySelector('#' + key + ' button');\n",
              "          quickchartButtonEl.disabled = true;  // To prevent multiple clicks.\n",
              "          quickchartButtonEl.classList.add('colab-df-spinner');\n",
              "          try {\n",
              "            const charts = await google.colab.kernel.invokeFunction(\n",
              "                'suggestCharts', [key], {});\n",
              "          } catch (error) {\n",
              "            console.error('Error during call to suggestCharts:', error);\n",
              "          }\n",
              "          quickchartButtonEl.classList.remove('colab-df-spinner');\n",
              "          quickchartButtonEl.classList.add('colab-df-quickchart-complete');\n",
              "        }\n",
              "        (() => {\n",
              "          let quickchartButtonEl =\n",
              "            document.querySelector('#df-cbfbe051-fb75-432b-bd6b-0921cda755ff button');\n",
              "          quickchartButtonEl.style.display =\n",
              "            google.colab.kernel.accessAllowed ? 'block' : 'none';\n",
              "        })();\n",
              "      </script>\n",
              "    </div>\n",
              "\n",
              "    </div>\n",
              "  </div>\n"
            ],
            "text/plain": [
              "             dtype                      sample_val   vals  miss_pct  unique  \\\n",
              "a           object       Ruby_Tuesday_(restaurant)  10000       0.0     250   \n",
              "name        object                        MetaBank   9981       0.2     258   \n",
              "type        object                  Public_company  10000       0.0      58   \n",
              "foundation  object                      Luxembourg   2910      70.9      71   \n",
              "location    object  Duluth, Georgia, United States   8656      13.4     297   \n",
              "products    object                          Cement   9014       9.9     434   \n",
              "sector      object              Financial_services  10000       0.0     129   \n",
              "employee     int64                           19568  10000       0.0     243   \n",
              "assets      object                        2.42E+10   7103      29.0     252   \n",
              "equity      object                        6.49E+09   7124      28.8     252   \n",
              "revenue     object                        1.34E+10   6943      30.6     257   \n",
              "profit      object                        3.95E+08   7107      28.9     255   \n",
              "\n",
              "               mean   mode  min      max       std  skew  kurtosis  \n",
              "a               NaN    NaN  NaN      NaN       NaN   NaN       NaN  \n",
              "name            NaN    NaN  NaN      NaN       NaN   NaN       NaN  \n",
              "type            NaN    NaN  NaN      NaN       NaN   NaN       NaN  \n",
              "foundation      NaN    NaN  NaN      NaN       NaN   NaN       NaN  \n",
              "location        NaN    NaN  NaN      NaN       NaN   NaN       NaN  \n",
              "products        NaN    NaN  NaN      NaN       NaN   NaN       NaN  \n",
              "sector          NaN    NaN  NaN      NaN       NaN   NaN       NaN  \n",
              "employee    7803.18  827.0  4.0  70100.0  11984.44   2.7       8.2  \n",
              "assets          NaN    NaN  NaN      NaN       NaN   NaN       NaN  \n",
              "equity          NaN    NaN  NaN      NaN       NaN   NaN       NaN  \n",
              "revenue         NaN    NaN  NaN      NaN       NaN   NaN       NaN  \n",
              "profit          NaN    NaN  NaN      NaN       NaN   NaN       NaN  "
            ]
          },
          "execution_count": 262,
          "metadata": {},
          "output_type": "execute_result"
        }
      ],
      "source": [
        "summary_stats(df)"
      ]
    },
    {
      "cell_type": "markdown",
      "metadata": {
        "id": "Ox_BEuVBbt-9"
      },
      "source": [
        "Decision to drop is generally if > 60% missing values in a column."
      ]
    },
    {
      "cell_type": "markdown",
      "metadata": {
        "id": "J6JsDM-NZDX9"
      },
      "source": [
        "Sometimes, given the quality and issues with certain columns, you may wish to consider what you are looking to analyse before you go cleaning columns that aren't being used?\n",
        "\n",
        "e.g. do you need town, state...or is country enough? Think Tax or look at currency of profit etc. to get location!"
      ]
    },
    {
      "cell_type": "markdown",
      "metadata": {
        "id": "9BUez17ffhgy"
      },
      "source": [
        "## Duplicates\n",
        "\n",
        "Although not predominantly covered, it can be helpful to analyse stats to determine if duplicates have a pattern too."
      ]
    },
    {
      "cell_type": "code",
      "execution_count": null,
      "metadata": {
        "id": "UIq5you-zKfg"
      },
      "outputs": [],
      "source": [
        "def duplicates(df) -> pd.DataFrame:\n",
        "    df = df.copy()\n",
        "\n",
        "    # Identify duplicates\n",
        "    dups = df[df.duplicated(keep=False)]\n",
        "    dup_count = len(dups)\n",
        "\n",
        "    if dup_count > 0:\n",
        "        print(f\"Found {dup_count} duplicate records ({len(dups)//2} unique sets)\")\n",
        "\n",
        "    else:\n",
        "        print(\"No duplicate records found\")\n",
        "\n",
        "    return dups\n",
        "\n",
        "duplicate_records = duplicates(df)"
      ]
    },
    {
      "cell_type": "markdown",
      "metadata": {
        "id": "3D4BNUGlzPQu"
      },
      "source": [
        "### Option 1: Duplicate Stats Function"
      ]
    },
    {
      "cell_type": "code",
      "execution_count": null,
      "metadata": {
        "colab": {
          "base_uri": "https://localhost:8080/"
        },
        "id": "N5CVaawdeDst",
        "outputId": "5caa8f44-92e6-4eec-e514-995e3970b81a"
      },
      "outputs": [
        {
          "name": "stdout",
          "output_type": "stream",
          "text": [
            "Found 368 duplicate records (184 unique sets)\n"
          ]
        }
      ],
      "source": [
        "def duplicate_stats(df) -> pd.DataFrame:\n",
        "    stats = pd.DataFrame(index=df.columns)\n",
        "\n",
        "    stats[\"total_rows\"] = len(df)\n",
        "    stats[\"dup_count\"] = [df[col].duplicated(keep=False).sum() for col in df.columns]\n",
        "    stats[\"dup_pct\"] = (stats[\"dup_count\"] / len(df) * 100).round(2)\n",
        "    stats[\"unique\"] = df.nunique()\n",
        "\n",
        "    return stats  # Only show columns with duplicates\n",
        "\n",
        "dup_stats = duplicate_stats(df)\n"
      ]
    }
  ],
  "metadata": {
    "colab": {
      "provenance": [],
      "toc_visible": true
    },
    "kernelspec": {
      "display_name": ".venv",
      "language": "python",
      "name": "python3"
    },
    "language_info": {
      "codemirror_mode": {
        "name": "ipython",
        "version": 3
      },
      "file_extension": ".py",
      "mimetype": "text/x-python",
      "name": "python",
      "nbconvert_exporter": "python",
      "pygments_lexer": "ipython3",
      "version": "3.13.3"
    }
  },
  "nbformat": 4,
  "nbformat_minor": 0
}
